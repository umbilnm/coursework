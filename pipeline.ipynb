{
 "cells": [
  {
   "cell_type": "code",
   "execution_count": 44,
   "id": "ffb979ea",
   "metadata": {},
   "outputs": [],
   "source": [
    "import json\n",
    "\n",
    "import numpy as np\n",
    "import pandas as pd\n",
    "import matplotlib.pyplot as plt\n",
    "import seaborn as sns\n",
    "import copy\n",
    "from copy import deepcopy\n",
    "# Data manipulation libraries\n",
    "from sklearn.preprocessing import MinMaxScaler, StandardScaler, LabelEncoder\n",
    "from sklearn.model_selection import train_test_split,cross_val_score,KFold,StratifiedKFold,RepeatedStratifiedKFold,GridSearchCV\n",
    "# Model evaluaion libraries\n",
    "from sklearn.metrics import roc_auc_score, roc_curve, accuracy_score, classification_report, f1_score, make_scorer\n",
    "\n",
    "# Classiication Models libraries\n",
    "from sklearn.linear_model import LogisticRegression\n",
    "from sklearn.ensemble import RandomForestClassifier\n",
    "from xgboost import XGBClassifier,plot_importance\n",
    "from sklearn.svm import SVC\n",
    "from sklearn.neighbors import KNeighborsClassifier\n",
    "from sklearn.naive_bayes import GaussianNB\n",
    "from catboost import CatBoostClassifier\n",
    "from navec import Navec\n",
    "from sklearn.tree import DecisionTreeClassifier\n",
    "\n",
    "# Remove warnings\n",
    "import warnings\n",
    "warnings.simplefilter(action='ignore', category=FutureWarning)\n",
    "warnings.filterwarnings(\"ignore\", category=UserWarning)\n",
    "\n",
    "RANDOM_STATE = 42\n",
    "warnings.simplefilter(action='ignore', category=FutureWarning)\n",
    "warnings.simplefilter(action='ignore', category=pd.errors.PerformanceWarning)\n",
    "pd.options.mode.chained_assignment = None"
   ]
  },
  {
   "cell_type": "code",
   "execution_count": 37,
   "id": "be75fd97",
   "metadata": {},
   "outputs": [],
   "source": [
    "path = 'navec_hudlit_v1_12B_500K_300d_100q.tar'\n",
    "navec = Navec.load(path)"
   ]
  },
  {
   "cell_type": "code",
   "execution_count": 51,
   "id": "08a45eec",
   "metadata": {},
   "outputs": [],
   "source": [
    "def get_df(razmetka: pd.Series):\n",
    "    data = pd.DataFrame(data = {'слова' : razmetka.apply(lambda x: x.keys()).explode(0).values,\n",
    "                    'метки' : razmetka.apply(lambda x: x.values()).explode().values})\n",
    "    data = data[data.метки != '-'][data.метки != '1']\n",
    "    return data"
   ]
  },
  {
   "cell_type": "code",
   "execution_count": 52,
   "id": "8a36b364",
   "metadata": {},
   "outputs": [],
   "source": [
    "def prepr(data : pd.DataFrame):\n",
    "    data.метки = data.метки.apply(lambda x: 'бренд' if x in ['бред'] else x)\n",
    "    data.метки = data.метки.apply(lambda x: 'наз' if x in ['назн'] else x)\n",
    "    data.метки = data.метки.apply(lambda x: 'раз' if x in ['размер', 'разм'] else x)\n",
    "    data.метки = data.метки.apply(lambda x: 'тов' if x in ['товар'] else x)\n",
    "    data.метки = data.метки.apply(lambda x: 'мат' if x in ['материал'] else x)\n",
    "    data.метки = data.метки.apply(lambda x: 'мод' if x in ['модель'] else x)"
   ]
  },
  {
   "cell_type": "code",
   "execution_count": 53,
   "id": "820aa68b",
   "metadata": {},
   "outputs": [],
   "source": [
    "def get_features(X):\n",
    "    \n",
    "    for i in range(len(X.iloc[0, 0])):\n",
    "        X[f'feat_{i+1}'] = X.Vec.apply(lambda x: x[i])\n",
    "    X = X.drop('Vec', axis = 1)\n",
    "    return X"
   ]
  },
  {
   "cell_type": "code",
   "execution_count": 54,
   "id": "2bcf461f",
   "metadata": {},
   "outputs": [],
   "source": [
    "data = pd.read_json('data/supl_biz_157k.json')\n",
    "preprocessed = pd.read_json('razmetka/01_05.json')\n",
    "dataset = preprocessed[preprocessed.Razme4.notna()].Razme4\n",
    "dataset = get_df(dataset)\n",
    "prepr(dataset)\n",
    "dataset = dataset[dataset.метки != 'цвет']\n",
    "dataset['Vec'] = dataset.слова.apply(lambda x: navec.get(x))\n",
    "dataset = dataset[dataset.Vec.notna()]\n",
    "encoder = LabelEncoder()\n",
    "y = encoder.fit_transform(dataset.метки)\n",
    "X = dataset[['Vec']]\n",
    "X = get_features(X)"
   ]
  },
  {
   "cell_type": "code",
   "execution_count": 55,
   "id": "2e3d5c61",
   "metadata": {},
   "outputs": [],
   "source": [
    "assert X.values.shape[0]  == y.ravel().shape[0]"
   ]
  },
  {
   "cell_type": "code",
   "execution_count": 56,
   "id": "6b52d405",
   "metadata": {},
   "outputs": [],
   "source": [
    "class Splitter:\n",
    "    def __init__(self, kfold = True, n_repeats = None, n_splits = 5, shuffle = True):\n",
    "        self.kfold = kfold\n",
    "        self.n_repeats = n_repeats\n",
    "        self.n_splits = n_splits\n",
    "        self.shuffle = shuffle\n",
    "        \n",
    "    def split_data(self, X, y):\n",
    "        if self.n_repeats:\n",
    "            kf = RepeatedStratifiedKFold(n_repeats = self.n_repeats, n_splits = self.n_splits, shuffle = self.shuffle)\n",
    "        \n",
    "        else:\n",
    "            kf = StratifiedKFold(n_splits = self.n_splits, shuffle = self.shuffle)\n",
    "        \n",
    "        for train_idx, val_idx in kf.split(X, y):\n",
    "            X_train, X_val = X[train_idx, :], X[val_idx, :]\n",
    "            y_train, y_val = y[train_idx], y[val_idx]\n",
    "            yield X_train, X_val, y_train, y_val\n",
    "    "
   ]
  },
  {
   "cell_type": "code",
   "execution_count": 57,
   "id": "a8cb95b5",
   "metadata": {},
   "outputs": [],
   "source": [
    "class models_summary():\n",
    "    def __init__(self, classifiers =  {'SVC':SVC(), \n",
    "                            'RF':RandomForestClassifier(), \n",
    "                            'CatBoost':CatBoostClassifier(silent=True), \n",
    "                            'LogReg':LogisticRegression()}):\n",
    "        self.classifiers = classifiers\n",
    "        self.cv_results = dict(zip(list(self.classifiers.keys()), [None] * len(self.classifiers))) \n",
    "         \n",
    "        self.holdout_results = dict(zip(list(self.classifiers.keys()), [None] * len(self.classifiers)))\n",
    "                \n",
    "        \n",
    "    def fit(self, X_ : np.array, y_ : np.array, holdout_size = 0.2, random_state = None, n_splits = 5):\n",
    "        self.n_splits = n_splits\n",
    "        self.holdout_size = holdout_size\n",
    "        self.X, self.X_holdout, self.y, self.y_holdout = train_test_split(X_, y_,\\\n",
    "                                                                          test_size=self.holdout_size, stratify = y_)\n",
    "\n",
    "        for classifier_name in list(self.classifiers.keys()):\n",
    "            splitter = Splitter(n_splits=self.n_splits)\n",
    "            model = self.classifiers[classifier_name]\n",
    "            self.cv_results[classifier_name] = []\n",
    "            for X_train, X_val, y_train, y_val in splitter.split_data(self.X, self.y):\n",
    "                model.fit(X_train, y_train)\n",
    "                score = model.score(X_val, y_val)\n",
    "                self.cv_results[classifier_name].append(score)\n",
    "\n",
    "            holdout_score = model.score(self.X_holdout, self.y_holdout)\n",
    "            self.holdout_results[classifier_name] = holdout_score\n",
    "\n",
    "            print(f'{classifier_name} fitted,\\nHoldout Result = {holdout_score}')\n",
    "        return pd.DataFrame({'model_name' : list(self.classifiers.keys()),\n",
    "                            'holdout_score' : list(self.holdout_results.values())})\n",
    "\n",
    "        \n",
    "        \n",
    "        \n",
    "        "
   ]
  },
  {
   "cell_type": "code",
   "execution_count": 58,
   "id": "4a1ec55f",
   "metadata": {},
   "outputs": [
    {
     "name": "stdout",
     "output_type": "stream",
     "text": [
      "SVC fitted,\n",
      "Holdout Result = 0.6630434782608695\n",
      "RF fitted,\n",
      "Holdout Result = 0.6630434782608695\n",
      "CatBoost fitted,\n",
      "Holdout Result = 0.7282608695652174\n",
      "LogReg fitted,\n",
      "Holdout Result = 0.6956521739130435\n"
     ]
    }
   ],
   "source": [
    "summary = models_summary()\n",
    "df = summary.fit(X.values, y, n_splits = 4)"
   ]
  },
  {
   "attachments": {},
   "cell_type": "markdown",
   "id": "75101f31",
   "metadata": {},
   "source": [
    "## Split Data"
   ]
  },
  {
   "cell_type": "code",
   "execution_count": 59,
   "id": "46df34c2",
   "metadata": {},
   "outputs": [],
   "source": [
    "X_train, X_holdout, y_train, y_holdout = train_test_split(X, y, test_size = 0.2)"
   ]
  },
  {
   "attachments": {},
   "cell_type": "markdown",
   "id": "489d80cd",
   "metadata": {},
   "source": [
    "## Grids"
   ]
  },
  {
   "cell_type": "code",
   "execution_count": 60,
   "id": "3955f90f",
   "metadata": {},
   "outputs": [],
   "source": [
    "RF_grid = { \n",
    "    'n_estimators': [200, 300],\n",
    "    'max_features': ['sqrt'],\n",
    "    'max_depth' : [4,5,6,7,8],\n",
    "    'criterion' :['gini', 'entropy']\n",
    "}\n",
    "CatBoost_grid = {'depth'         : [4,5,6,7,8],\n",
    "                 'learning_rate' : [0.01,0.02,0.03,0.04],\n",
    "                  'iterations'    : [10, 20,30,40,50,60,70]\n",
    "                 }\n",
    "\n",
    "logreg_grid = {'penalty' : ['l2', 'l1'],\n",
    "               'C' : [0.5, 0.8, 1]\n",
    "}\n",
    "\n",
    "DecisionTree_grid = {'max_depth' : [2,4,6,8,10,12]}\n"
   ]
  },
  {
   "attachments": {},
   "cell_type": "markdown",
   "id": "f8746fad",
   "metadata": {},
   "source": [
    "## Decision Tree "
   ]
  },
  {
   "cell_type": "code",
   "execution_count": 14,
   "id": "a92fdec6",
   "metadata": {},
   "outputs": [],
   "source": [
    "clf = DecisionTreeClassifier()"
   ]
  },
  {
   "cell_type": "code",
   "execution_count": 15,
   "id": "f3cda0c4",
   "metadata": {},
   "outputs": [],
   "source": [
    "f1_weighted = make_scorer(f1_score, average = 'weighted')"
   ]
  },
  {
   "cell_type": "code",
   "execution_count": 16,
   "id": "3fd54e4d",
   "metadata": {},
   "outputs": [],
   "source": [
    "grid = {\n",
    "    'max_depth' : range(2, 11, 2),\n",
    "    'min_samples_split' : range(2,7,2)\n",
    "}\n",
    "gridsearch = GridSearchCV(estimator = clf, param_grid = grid, cv = 5,\\\n",
    "                          scoring = f1_weighted)"
   ]
  },
  {
   "cell_type": "code",
   "execution_count": 17,
   "id": "b567dd5f",
   "metadata": {
    "scrolled": true
   },
   "outputs": [
    {
     "data": {
      "text/html": [
       "<style>#sk-container-id-1 {color: black;background-color: white;}#sk-container-id-1 pre{padding: 0;}#sk-container-id-1 div.sk-toggleable {background-color: white;}#sk-container-id-1 label.sk-toggleable__label {cursor: pointer;display: block;width: 100%;margin-bottom: 0;padding: 0.3em;box-sizing: border-box;text-align: center;}#sk-container-id-1 label.sk-toggleable__label-arrow:before {content: \"▸\";float: left;margin-right: 0.25em;color: #696969;}#sk-container-id-1 label.sk-toggleable__label-arrow:hover:before {color: black;}#sk-container-id-1 div.sk-estimator:hover label.sk-toggleable__label-arrow:before {color: black;}#sk-container-id-1 div.sk-toggleable__content {max-height: 0;max-width: 0;overflow: hidden;text-align: left;background-color: #f0f8ff;}#sk-container-id-1 div.sk-toggleable__content pre {margin: 0.2em;color: black;border-radius: 0.25em;background-color: #f0f8ff;}#sk-container-id-1 input.sk-toggleable__control:checked~div.sk-toggleable__content {max-height: 200px;max-width: 100%;overflow: auto;}#sk-container-id-1 input.sk-toggleable__control:checked~label.sk-toggleable__label-arrow:before {content: \"▾\";}#sk-container-id-1 div.sk-estimator input.sk-toggleable__control:checked~label.sk-toggleable__label {background-color: #d4ebff;}#sk-container-id-1 div.sk-label input.sk-toggleable__control:checked~label.sk-toggleable__label {background-color: #d4ebff;}#sk-container-id-1 input.sk-hidden--visually {border: 0;clip: rect(1px 1px 1px 1px);clip: rect(1px, 1px, 1px, 1px);height: 1px;margin: -1px;overflow: hidden;padding: 0;position: absolute;width: 1px;}#sk-container-id-1 div.sk-estimator {font-family: monospace;background-color: #f0f8ff;border: 1px dotted black;border-radius: 0.25em;box-sizing: border-box;margin-bottom: 0.5em;}#sk-container-id-1 div.sk-estimator:hover {background-color: #d4ebff;}#sk-container-id-1 div.sk-parallel-item::after {content: \"\";width: 100%;border-bottom: 1px solid gray;flex-grow: 1;}#sk-container-id-1 div.sk-label:hover label.sk-toggleable__label {background-color: #d4ebff;}#sk-container-id-1 div.sk-serial::before {content: \"\";position: absolute;border-left: 1px solid gray;box-sizing: border-box;top: 0;bottom: 0;left: 50%;z-index: 0;}#sk-container-id-1 div.sk-serial {display: flex;flex-direction: column;align-items: center;background-color: white;padding-right: 0.2em;padding-left: 0.2em;position: relative;}#sk-container-id-1 div.sk-item {position: relative;z-index: 1;}#sk-container-id-1 div.sk-parallel {display: flex;align-items: stretch;justify-content: center;background-color: white;position: relative;}#sk-container-id-1 div.sk-item::before, #sk-container-id-1 div.sk-parallel-item::before {content: \"\";position: absolute;border-left: 1px solid gray;box-sizing: border-box;top: 0;bottom: 0;left: 50%;z-index: -1;}#sk-container-id-1 div.sk-parallel-item {display: flex;flex-direction: column;z-index: 1;position: relative;background-color: white;}#sk-container-id-1 div.sk-parallel-item:first-child::after {align-self: flex-end;width: 50%;}#sk-container-id-1 div.sk-parallel-item:last-child::after {align-self: flex-start;width: 50%;}#sk-container-id-1 div.sk-parallel-item:only-child::after {width: 0;}#sk-container-id-1 div.sk-dashed-wrapped {border: 1px dashed gray;margin: 0 0.4em 0.5em 0.4em;box-sizing: border-box;padding-bottom: 0.4em;background-color: white;}#sk-container-id-1 div.sk-label label {font-family: monospace;font-weight: bold;display: inline-block;line-height: 1.2em;}#sk-container-id-1 div.sk-label-container {text-align: center;}#sk-container-id-1 div.sk-container {/* jupyter's `normalize.less` sets `[hidden] { display: none; }` but bootstrap.min.css set `[hidden] { display: none !important; }` so we also need the `!important` here to be able to override the default hidden behavior on the sphinx rendered scikit-learn.org. See: https://github.com/scikit-learn/scikit-learn/issues/21755 */display: inline-block !important;position: relative;}#sk-container-id-1 div.sk-text-repr-fallback {display: none;}</style><div id=\"sk-container-id-1\" class=\"sk-top-container\"><div class=\"sk-text-repr-fallback\"><pre>GridSearchCV(cv=5, estimator=DecisionTreeClassifier(),\n",
       "             param_grid={&#x27;max_depth&#x27;: range(2, 11, 2),\n",
       "                         &#x27;min_samples_split&#x27;: range(2, 7, 2)},\n",
       "             scoring=make_scorer(f1_score, average=weighted))</pre><b>In a Jupyter environment, please rerun this cell to show the HTML representation or trust the notebook. <br />On GitHub, the HTML representation is unable to render, please try loading this page with nbviewer.org.</b></div><div class=\"sk-container\" hidden><div class=\"sk-item sk-dashed-wrapped\"><div class=\"sk-label-container\"><div class=\"sk-label sk-toggleable\"><input class=\"sk-toggleable__control sk-hidden--visually\" id=\"sk-estimator-id-1\" type=\"checkbox\" ><label for=\"sk-estimator-id-1\" class=\"sk-toggleable__label sk-toggleable__label-arrow\">GridSearchCV</label><div class=\"sk-toggleable__content\"><pre>GridSearchCV(cv=5, estimator=DecisionTreeClassifier(),\n",
       "             param_grid={&#x27;max_depth&#x27;: range(2, 11, 2),\n",
       "                         &#x27;min_samples_split&#x27;: range(2, 7, 2)},\n",
       "             scoring=make_scorer(f1_score, average=weighted))</pre></div></div></div><div class=\"sk-parallel\"><div class=\"sk-parallel-item\"><div class=\"sk-item\"><div class=\"sk-label-container\"><div class=\"sk-label sk-toggleable\"><input class=\"sk-toggleable__control sk-hidden--visually\" id=\"sk-estimator-id-2\" type=\"checkbox\" ><label for=\"sk-estimator-id-2\" class=\"sk-toggleable__label sk-toggleable__label-arrow\">estimator: DecisionTreeClassifier</label><div class=\"sk-toggleable__content\"><pre>DecisionTreeClassifier()</pre></div></div></div><div class=\"sk-serial\"><div class=\"sk-item\"><div class=\"sk-estimator sk-toggleable\"><input class=\"sk-toggleable__control sk-hidden--visually\" id=\"sk-estimator-id-3\" type=\"checkbox\" ><label for=\"sk-estimator-id-3\" class=\"sk-toggleable__label sk-toggleable__label-arrow\">DecisionTreeClassifier</label><div class=\"sk-toggleable__content\"><pre>DecisionTreeClassifier()</pre></div></div></div></div></div></div></div></div></div></div>"
      ],
      "text/plain": [
       "GridSearchCV(cv=5, estimator=DecisionTreeClassifier(),\n",
       "             param_grid={'max_depth': range(2, 11, 2),\n",
       "                         'min_samples_split': range(2, 7, 2)},\n",
       "             scoring=make_scorer(f1_score, average=weighted))"
      ]
     },
     "execution_count": 17,
     "metadata": {},
     "output_type": "execute_result"
    }
   ],
   "source": [
    "gridsearch.fit(X_train, y_train)"
   ]
  },
  {
   "cell_type": "code",
   "execution_count": 18,
   "id": "ef751c93",
   "metadata": {},
   "outputs": [
    {
     "name": "stdout",
     "output_type": "stream",
     "text": [
      "0.7247897714396712 \n",
      "               precision    recall  f1-score   support\n",
      "\n",
      "           0       0.50      1.00      0.67         2\n",
      "           1       0.00      0.00      0.00         1\n",
      "           2       1.00      1.00      1.00         1\n",
      "           3       1.00      0.78      0.88         9\n",
      "           4       0.25      0.50      0.33         2\n",
      "           5       0.69      0.69      0.69        13\n",
      "           6       0.71      0.71      0.71         7\n",
      "           7       0.60      0.47      0.53        19\n",
      "           8       0.80      0.87      0.84        38\n",
      "\n",
      "    accuracy                           0.73        92\n",
      "   macro avg       0.62      0.67      0.63        92\n",
      "weighted avg       0.73      0.73      0.72        92\n",
      "\n"
     ]
    }
   ],
   "source": [
    "best_tree = gridsearch.best_estimator_\n",
    "best_tree.fit(X_train, y_train)\n",
    "pred = best_tree.predict(X_holdout)\n",
    "print(f1_score(pred, y_holdout, average = 'weighted'),'\\n', classification_report(pred, y_holdout))"
   ]
  },
  {
   "attachments": {},
   "cell_type": "markdown",
   "id": "2927c23c",
   "metadata": {},
   "source": [
    "# GridSearch"
   ]
  },
  {
   "cell_type": "code",
   "execution_count": 61,
   "id": "9c5bd783",
   "metadata": {},
   "outputs": [],
   "source": [
    "estimators = {RandomForestClassifier() : [RF_grid, 'RF'], \n",
    "#              CatBoostClassifier() : CatBoost_grid, \n",
    "              LogisticRegression() : [logreg_grid, 'LogReg'],\n",
    "            DecisionTreeClassifier() : [DecisionTree_grid, 'Tree']}\n"
   ]
  },
  {
   "cell_type": "code",
   "execution_count": 62,
   "id": "820fd0e7",
   "metadata": {},
   "outputs": [],
   "source": [
    "names = ['RF', 'LogReg', 'Tree']"
   ]
  },
  {
   "attachments": {},
   "cell_type": "markdown",
   "id": "3c5b3abd",
   "metadata": {},
   "source": [
    "## KFold"
   ]
  },
  {
   "cell_type": "code",
   "execution_count": 63,
   "id": "47d75a77",
   "metadata": {},
   "outputs": [],
   "source": [
    "cv = StratifiedKFold(n_splits=4, random_state=42, shuffle=True)"
   ]
  },
  {
   "cell_type": "code",
   "execution_count": 64,
   "id": "a31e90bf",
   "metadata": {},
   "outputs": [
    {
     "name": "stdout",
     "output_type": "stream",
     "text": [
      "RF Fitted\n",
      "Best Score:0.73617809903969\n",
      "File cv_results/RF_results.json written!\n",
      "File cv_results/RF_best_params.json written!\n",
      "------------------------------\n"
     ]
    },
    {
     "name": "stderr",
     "output_type": "stream",
     "text": [
      "d:\\anaconda\\lib\\site-packages\\sklearn\\model_selection\\_validation.py:378: FitFailedWarning: \n",
      "12 fits failed out of a total of 24.\n",
      "The score on these train-test partitions for these parameters will be set to nan.\n",
      "If these failures are not expected, you can try to debug them by setting error_score='raise'.\n",
      "\n",
      "Below are more details about the failures:\n",
      "--------------------------------------------------------------------------------\n",
      "12 fits failed with the following error:\n",
      "Traceback (most recent call last):\n",
      "  File \"d:\\anaconda\\lib\\site-packages\\sklearn\\model_selection\\_validation.py\", line 686, in _fit_and_score\n",
      "    estimator.fit(X_train, y_train, **fit_params)\n",
      "  File \"d:\\anaconda\\lib\\site-packages\\sklearn\\linear_model\\_logistic.py\", line 1162, in fit\n",
      "    solver = _check_solver(self.solver, self.penalty, self.dual)\n",
      "  File \"d:\\anaconda\\lib\\site-packages\\sklearn\\linear_model\\_logistic.py\", line 54, in _check_solver\n",
      "    raise ValueError(\n",
      "ValueError: Solver lbfgs supports only 'l2' or 'none' penalties, got l1 penalty.\n",
      "\n",
      "  warnings.warn(some_fits_failed_message, FitFailedWarning)\n"
     ]
    },
    {
     "name": "stdout",
     "output_type": "stream",
     "text": [
      "LogReg Fitted\n",
      "Best Score:0.7299734541661486\n",
      "File cv_results/LogReg_results.json written!\n",
      "File cv_results/LogReg_best_params.json written!\n",
      "------------------------------\n",
      "Tree Fitted\n",
      "Best Score:0.6781865077721523\n",
      "File cv_results/Tree_results.json written!\n",
      "File cv_results/Tree_best_params.json written!\n",
      "------------------------------\n"
     ]
    }
   ],
   "source": [
    "for estimator, grid in list(estimators.items()):\n",
    "    gridsearch = GridSearchCV(estimator=estimator, param_grid=grid[:-1], scoring=f1_weighted, cv=cv)\n",
    "    gridsearch.fit(X_train, y_train)\n",
    "    print(f'{grid[-1]} Fitted\\nBest Score:{gridsearch.best_score_}')\n",
    "\n",
    "    \n",
    "    pd.DataFrame(gridsearch.cv_results_).to_json(f'cv_results/{grid[-1]}_results.json')\n",
    "    print(f'File cv_results/{grid[-1]}_results.json written!')\n",
    "    pd.DataFrame(gridsearch.best_params_, index = [1]).to_json(f'cv_results/{grid[-1]}_best_params.json')\n",
    "    print(f'File cv_results/{grid[-1]}_best_params.json written!')\n",
    "    print('-'*30)"
   ]
  },
  {
   "attachments": {},
   "cell_type": "markdown",
   "id": "d52b54d1",
   "metadata": {},
   "source": [
    "### Get DataFrame"
   ]
  },
  {
   "cell_type": "code",
   "execution_count": 65,
   "id": "f507d323",
   "metadata": {},
   "outputs": [
    {
     "data": {
      "text/html": [
       "<div>\n",
       "<style scoped>\n",
       "    .dataframe tbody tr th:only-of-type {\n",
       "        vertical-align: middle;\n",
       "    }\n",
       "\n",
       "    .dataframe tbody tr th {\n",
       "        vertical-align: top;\n",
       "    }\n",
       "\n",
       "    .dataframe thead th {\n",
       "        text-align: right;\n",
       "    }\n",
       "</style>\n",
       "<table border=\"1\" class=\"dataframe\">\n",
       "  <thead>\n",
       "    <tr style=\"text-align: right;\">\n",
       "      <th></th>\n",
       "      <th>params</th>\n",
       "      <th>mean_test_score</th>\n",
       "      <th>std_test_score</th>\n",
       "    </tr>\n",
       "  </thead>\n",
       "  <tbody>\n",
       "    <tr>\n",
       "      <th>0</th>\n",
       "      <td>{'max_depth': 2}</td>\n",
       "      <td>0.460430</td>\n",
       "      <td>0.047852</td>\n",
       "    </tr>\n",
       "    <tr>\n",
       "      <th>1</th>\n",
       "      <td>{'max_depth': 4}</td>\n",
       "      <td>0.587707</td>\n",
       "      <td>0.039475</td>\n",
       "    </tr>\n",
       "    <tr>\n",
       "      <th>2</th>\n",
       "      <td>{'max_depth': 6}</td>\n",
       "      <td>0.650827</td>\n",
       "      <td>0.030535</td>\n",
       "    </tr>\n",
       "    <tr>\n",
       "      <th>3</th>\n",
       "      <td>{'max_depth': 8}</td>\n",
       "      <td>0.669194</td>\n",
       "      <td>0.019183</td>\n",
       "    </tr>\n",
       "    <tr>\n",
       "      <th>4</th>\n",
       "      <td>{'max_depth': 10}</td>\n",
       "      <td>0.678187</td>\n",
       "      <td>0.031377</td>\n",
       "    </tr>\n",
       "    <tr>\n",
       "      <th>5</th>\n",
       "      <td>{'max_depth': 12}</td>\n",
       "      <td>0.676919</td>\n",
       "      <td>0.037420</td>\n",
       "    </tr>\n",
       "  </tbody>\n",
       "</table>\n",
       "</div>"
      ],
      "text/plain": [
       "              params  mean_test_score  std_test_score\n",
       "0   {'max_depth': 2}         0.460430        0.047852\n",
       "1   {'max_depth': 4}         0.587707        0.039475\n",
       "2   {'max_depth': 6}         0.650827        0.030535\n",
       "3   {'max_depth': 8}         0.669194        0.019183\n",
       "4  {'max_depth': 10}         0.678187        0.031377\n",
       "5  {'max_depth': 12}         0.676919        0.037420"
      ]
     },
     "execution_count": 65,
     "metadata": {},
     "output_type": "execute_result"
    }
   ],
   "source": [
    "pd.read_json('cv_results/Tree_results.json').loc[:, ['params', 'mean_test_score', 'std_test_score']]"
   ]
  },
  {
   "cell_type": "code",
   "execution_count": 66,
   "id": "4f6be0ca",
   "metadata": {},
   "outputs": [
    {
     "data": {
      "text/html": [
       "<div>\n",
       "<style scoped>\n",
       "    .dataframe tbody tr th:only-of-type {\n",
       "        vertical-align: middle;\n",
       "    }\n",
       "\n",
       "    .dataframe tbody tr th {\n",
       "        vertical-align: top;\n",
       "    }\n",
       "\n",
       "    .dataframe thead th {\n",
       "        text-align: right;\n",
       "    }\n",
       "</style>\n",
       "<table border=\"1\" class=\"dataframe\">\n",
       "  <thead>\n",
       "    <tr style=\"text-align: right;\">\n",
       "      <th></th>\n",
       "      <th>params</th>\n",
       "      <th>mean_test_score</th>\n",
       "      <th>std_test_score</th>\n",
       "    </tr>\n",
       "  </thead>\n",
       "  <tbody>\n",
       "    <tr>\n",
       "      <th>0</th>\n",
       "      <td>{'criterion': 'gini', 'max_depth': 4, 'max_fea...</td>\n",
       "      <td>0.664298</td>\n",
       "      <td>0.025472</td>\n",
       "    </tr>\n",
       "    <tr>\n",
       "      <th>1</th>\n",
       "      <td>{'criterion': 'gini', 'max_depth': 4, 'max_fea...</td>\n",
       "      <td>0.648430</td>\n",
       "      <td>0.035233</td>\n",
       "    </tr>\n",
       "    <tr>\n",
       "      <th>2</th>\n",
       "      <td>{'criterion': 'gini', 'max_depth': 5, 'max_fea...</td>\n",
       "      <td>0.688965</td>\n",
       "      <td>0.039350</td>\n",
       "    </tr>\n",
       "    <tr>\n",
       "      <th>3</th>\n",
       "      <td>{'criterion': 'gini', 'max_depth': 5, 'max_fea...</td>\n",
       "      <td>0.688406</td>\n",
       "      <td>0.039078</td>\n",
       "    </tr>\n",
       "    <tr>\n",
       "      <th>4</th>\n",
       "      <td>{'criterion': 'gini', 'max_depth': 6, 'max_fea...</td>\n",
       "      <td>0.721483</td>\n",
       "      <td>0.034358</td>\n",
       "    </tr>\n",
       "    <tr>\n",
       "      <th>5</th>\n",
       "      <td>{'criterion': 'gini', 'max_depth': 6, 'max_fea...</td>\n",
       "      <td>0.709036</td>\n",
       "      <td>0.034892</td>\n",
       "    </tr>\n",
       "    <tr>\n",
       "      <th>6</th>\n",
       "      <td>{'criterion': 'gini', 'max_depth': 7, 'max_fea...</td>\n",
       "      <td>0.725794</td>\n",
       "      <td>0.028028</td>\n",
       "    </tr>\n",
       "    <tr>\n",
       "      <th>7</th>\n",
       "      <td>{'criterion': 'gini', 'max_depth': 7, 'max_fea...</td>\n",
       "      <td>0.718543</td>\n",
       "      <td>0.019441</td>\n",
       "    </tr>\n",
       "    <tr>\n",
       "      <th>8</th>\n",
       "      <td>{'criterion': 'gini', 'max_depth': 8, 'max_fea...</td>\n",
       "      <td>0.719978</td>\n",
       "      <td>0.027871</td>\n",
       "    </tr>\n",
       "    <tr>\n",
       "      <th>9</th>\n",
       "      <td>{'criterion': 'gini', 'max_depth': 8, 'max_fea...</td>\n",
       "      <td>0.717807</td>\n",
       "      <td>0.041629</td>\n",
       "    </tr>\n",
       "    <tr>\n",
       "      <th>10</th>\n",
       "      <td>{'criterion': 'entropy', 'max_depth': 4, 'max_...</td>\n",
       "      <td>0.662631</td>\n",
       "      <td>0.031441</td>\n",
       "    </tr>\n",
       "    <tr>\n",
       "      <th>11</th>\n",
       "      <td>{'criterion': 'entropy', 'max_depth': 4, 'max_...</td>\n",
       "      <td>0.664684</td>\n",
       "      <td>0.029203</td>\n",
       "    </tr>\n",
       "    <tr>\n",
       "      <th>12</th>\n",
       "      <td>{'criterion': 'entropy', 'max_depth': 5, 'max_...</td>\n",
       "      <td>0.681369</td>\n",
       "      <td>0.030907</td>\n",
       "    </tr>\n",
       "    <tr>\n",
       "      <th>13</th>\n",
       "      <td>{'criterion': 'entropy', 'max_depth': 5, 'max_...</td>\n",
       "      <td>0.686496</td>\n",
       "      <td>0.027158</td>\n",
       "    </tr>\n",
       "    <tr>\n",
       "      <th>14</th>\n",
       "      <td>{'criterion': 'entropy', 'max_depth': 6, 'max_...</td>\n",
       "      <td>0.707603</td>\n",
       "      <td>0.044827</td>\n",
       "    </tr>\n",
       "    <tr>\n",
       "      <th>15</th>\n",
       "      <td>{'criterion': 'entropy', 'max_depth': 6, 'max_...</td>\n",
       "      <td>0.724223</td>\n",
       "      <td>0.038353</td>\n",
       "    </tr>\n",
       "    <tr>\n",
       "      <th>16</th>\n",
       "      <td>{'criterion': 'entropy', 'max_depth': 7, 'max_...</td>\n",
       "      <td>0.736178</td>\n",
       "      <td>0.042918</td>\n",
       "    </tr>\n",
       "    <tr>\n",
       "      <th>17</th>\n",
       "      <td>{'criterion': 'entropy', 'max_depth': 7, 'max_...</td>\n",
       "      <td>0.705808</td>\n",
       "      <td>0.033522</td>\n",
       "    </tr>\n",
       "    <tr>\n",
       "      <th>18</th>\n",
       "      <td>{'criterion': 'entropy', 'max_depth': 8, 'max_...</td>\n",
       "      <td>0.726144</td>\n",
       "      <td>0.029611</td>\n",
       "    </tr>\n",
       "    <tr>\n",
       "      <th>19</th>\n",
       "      <td>{'criterion': 'entropy', 'max_depth': 8, 'max_...</td>\n",
       "      <td>0.714623</td>\n",
       "      <td>0.022858</td>\n",
       "    </tr>\n",
       "  </tbody>\n",
       "</table>\n",
       "</div>"
      ],
      "text/plain": [
       "                                               params  mean_test_score  \\\n",
       "0   {'criterion': 'gini', 'max_depth': 4, 'max_fea...         0.664298   \n",
       "1   {'criterion': 'gini', 'max_depth': 4, 'max_fea...         0.648430   \n",
       "2   {'criterion': 'gini', 'max_depth': 5, 'max_fea...         0.688965   \n",
       "3   {'criterion': 'gini', 'max_depth': 5, 'max_fea...         0.688406   \n",
       "4   {'criterion': 'gini', 'max_depth': 6, 'max_fea...         0.721483   \n",
       "5   {'criterion': 'gini', 'max_depth': 6, 'max_fea...         0.709036   \n",
       "6   {'criterion': 'gini', 'max_depth': 7, 'max_fea...         0.725794   \n",
       "7   {'criterion': 'gini', 'max_depth': 7, 'max_fea...         0.718543   \n",
       "8   {'criterion': 'gini', 'max_depth': 8, 'max_fea...         0.719978   \n",
       "9   {'criterion': 'gini', 'max_depth': 8, 'max_fea...         0.717807   \n",
       "10  {'criterion': 'entropy', 'max_depth': 4, 'max_...         0.662631   \n",
       "11  {'criterion': 'entropy', 'max_depth': 4, 'max_...         0.664684   \n",
       "12  {'criterion': 'entropy', 'max_depth': 5, 'max_...         0.681369   \n",
       "13  {'criterion': 'entropy', 'max_depth': 5, 'max_...         0.686496   \n",
       "14  {'criterion': 'entropy', 'max_depth': 6, 'max_...         0.707603   \n",
       "15  {'criterion': 'entropy', 'max_depth': 6, 'max_...         0.724223   \n",
       "16  {'criterion': 'entropy', 'max_depth': 7, 'max_...         0.736178   \n",
       "17  {'criterion': 'entropy', 'max_depth': 7, 'max_...         0.705808   \n",
       "18  {'criterion': 'entropy', 'max_depth': 8, 'max_...         0.726144   \n",
       "19  {'criterion': 'entropy', 'max_depth': 8, 'max_...         0.714623   \n",
       "\n",
       "    std_test_score  \n",
       "0         0.025472  \n",
       "1         0.035233  \n",
       "2         0.039350  \n",
       "3         0.039078  \n",
       "4         0.034358  \n",
       "5         0.034892  \n",
       "6         0.028028  \n",
       "7         0.019441  \n",
       "8         0.027871  \n",
       "9         0.041629  \n",
       "10        0.031441  \n",
       "11        0.029203  \n",
       "12        0.030907  \n",
       "13        0.027158  \n",
       "14        0.044827  \n",
       "15        0.038353  \n",
       "16        0.042918  \n",
       "17        0.033522  \n",
       "18        0.029611  \n",
       "19        0.022858  "
      ]
     },
     "execution_count": 66,
     "metadata": {},
     "output_type": "execute_result"
    }
   ],
   "source": [
    "pd.read_json('cv_results/RF_results.json').loc[:, ['params', 'mean_test_score', 'std_test_score']]"
   ]
  },
  {
   "attachments": {},
   "cell_type": "markdown",
   "id": "7a43e4aa",
   "metadata": {},
   "source": [
    "### Best Models Perfomance on Holdout\n"
   ]
  },
  {
   "cell_type": "code",
   "execution_count": 153,
   "id": "1e94c781",
   "metadata": {},
   "outputs": [],
   "source": [
    "best_params =  dict(zip(names,map(lambda x: pd.read_json(f'cv_results/{x}_best_params.json').to_dict(orient='records')[0], names)))"
   ]
  },
  {
   "cell_type": "code",
   "execution_count": 156,
   "id": "243b8fc5",
   "metadata": {},
   "outputs": [
    {
     "data": {
      "text/plain": [
       "[RandomForestClassifier(), LogisticRegression(), DecisionTreeClassifier()]"
      ]
     },
     "execution_count": 156,
     "metadata": {},
     "output_type": "execute_result"
    }
   ],
   "source": [
    "list(estimators.keys())"
   ]
  },
  {
   "cell_type": "code",
   "execution_count": 160,
   "id": "580e7fd4",
   "metadata": {},
   "outputs": [
    {
     "data": {
      "text/plain": [
       "{RandomForestClassifier(): [{'n_estimators': [200, 300],\n",
       "   'max_features': ['sqrt'],\n",
       "   'max_depth': [4, 5, 6, 7, 8],\n",
       "   'criterion': ['gini', 'entropy']},\n",
       "  'RF'],\n",
       " LogisticRegression(): [{'penalty': ['l2', 'l1'], 'C': [0.5, 0.8, 1]},\n",
       "  'LogReg'],\n",
       " DecisionTreeClassifier(): [{'max_depth': [2, 4, 6, 8, 10, 12]}, 'Tree']}"
      ]
     },
     "execution_count": 160,
     "metadata": {},
     "output_type": "execute_result"
    }
   ],
   "source": [
    "estimators"
   ]
  },
  {
   "cell_type": "code",
   "execution_count": 157,
   "id": "ccc27527",
   "metadata": {},
   "outputs": [],
   "source": [
    "models = dict(zip( list(estimators.keys())\n"
   ]
  },
  {
   "cell_type": "code",
   "execution_count": null,
   "id": "84812a51",
   "metadata": {},
   "outputs": [],
   "source": []
  },
  {
   "cell_type": "code",
   "execution_count": 158,
   "id": "54fb043c",
   "metadata": {},
   "outputs": [
    {
     "data": {
      "text/plain": [
       "[RandomForestClassifier(), LogisticRegression(), DecisionTreeClassifier()]"
      ]
     },
     "execution_count": 158,
     "metadata": {},
     "output_type": "execute_result"
    }
   ],
   "source": [
    "map(models, lambda x:)"
   ]
  },
  {
   "cell_type": "code",
   "execution_count": 154,
   "id": "1d0073af",
   "metadata": {},
   "outputs": [
    {
     "data": {
      "text/plain": [
       "0.7452138207061481"
      ]
     },
     "execution_count": 154,
     "metadata": {},
     "output_type": "execute_result"
    }
   ],
   "source": [
    "best_RF = RandomForestClassifier(**best_params['RF'])\n",
    "best_RF.fit(X_train, y_train)\n",
    "pred = best_RF.predict(X_holdout)\n",
    "f1_score(pred, y_holdout, average='weighted')"
   ]
  },
  {
   "cell_type": "code",
   "execution_count": 159,
   "id": "77df8198",
   "metadata": {},
   "outputs": [
    {
     "data": {
      "text/plain": [
       "{'RF': {'criterion': 'entropy',\n",
       "  'max_depth': 7,\n",
       "  'max_features': 'sqrt',\n",
       "  'n_estimators': 200},\n",
       " 'LogReg': {'C': 1, 'penalty': 'l2'},\n",
       " 'Tree': {'max_depth': 10}}"
      ]
     },
     "execution_count": 159,
     "metadata": {},
     "output_type": "execute_result"
    }
   ],
   "source": [
    "best_params"
   ]
  },
  {
   "cell_type": "code",
   "execution_count": null,
   "id": "b77e16f1",
   "metadata": {},
   "outputs": [],
   "source": []
  }
 ],
 "metadata": {
  "kernelspec": {
   "display_name": "base",
   "language": "python",
   "name": "base"
  },
  "language_info": {
   "codemirror_mode": {
    "name": "ipython",
    "version": 3
   },
   "file_extension": ".py",
   "mimetype": "text/x-python",
   "name": "python",
   "nbconvert_exporter": "python",
   "pygments_lexer": "ipython3",
   "version": "3.8.16"
  }
 },
 "nbformat": 4,
 "nbformat_minor": 5
}
