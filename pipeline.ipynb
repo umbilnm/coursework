{
 "cells": [
  {
   "attachments": {},
   "cell_type": "markdown",
   "id": "21a9dd43",
   "metadata": {},
   "source": [
    "## Выделение атрибутов товара из текста описания "
   ]
  },
  {
   "attachments": {},
   "cell_type": "markdown",
   "id": "95d8536b",
   "metadata": {},
   "source": [
    "Задача: выделение атрибутов товара из текста описания при помощи методов машинного обучения"
   ]
  },
  {
   "attachments": {},
   "cell_type": "markdown",
   "id": "9f1bff8a",
   "metadata": {},
   "source": [
    "Моя задача является одной из возможных задач NER(выделение именнованных сущностей из текста). \n",
    "За одной задачей NER, на самом деле, стоит две: 1) обнаружить, что какая-то последовательность слов — это именованная сущность; 2) понять, к какому классу  эта именованная сущность относится.  На каждом из этапов возникают свои сложности. Зачастую эта задача решается при помощи рекуррентных нейронных сетей, но я буду делать это исключительно методами машинного обучения. Мною были выбраны 4 модели: логистическая регрессия, случайный лес, дерево решений, градиентный бустинг(его реализация от Яндекса CatBoost)."
   ]
  },
  {
   "attachments": {},
   "cell_type": "markdown",
   "id": "cee63c26",
   "metadata": {},
   "source": [
    "Я буду использовать следующий подход:\n",
    "1) разбиение названия(строки) на слова, т.е токенизация, и последующая нормализация\n",
    "2) сформирую выборку, в которой каждое слово - отдельное наблюдение, модель будет классифицировать каждое слово по отдельности, используя эмбеддинги из библиотеки Navec\n"
   ]
  },
  {
   "attachments": {},
   "cell_type": "markdown",
   "id": "1d16c423",
   "metadata": {},
   "source": [
    "## Imports"
   ]
  },
  {
   "cell_type": "code",
   "execution_count": 1,
   "id": "ffb979ea",
   "metadata": {},
   "outputs": [],
   "source": [
    "import json\n",
    "from yellowbrick.model_selection import ValidationCurve\n",
    "import numpy as np\n",
    "import pandas as pd\n",
    "import matplotlib.pyplot as plt\n",
    "import seaborn as sns\n",
    "import copy\n",
    "from copy import deepcopy\n",
    "from imblearn.over_sampling import RandomOverSampler\n",
    "# Data manipulation libraries\n",
    "from sklearn.preprocessing import MinMaxScaler, StandardScaler, LabelEncoder\n",
    "from sklearn.model_selection import train_test_split,cross_val_score,KFold,StratifiedKFold,RepeatedStratifiedKFold,GridSearchCV\n",
    "# Model evaluaion libraries\n",
    "from sklearn.metrics import roc_auc_score, roc_curve, accuracy_score, classification_report, f1_score, make_scorer\n",
    "from imblearn.over_sampling import SMOTE\n",
    "# Classiication Models libraries\n",
    "from sklearn.linear_model import LogisticRegression\n",
    "from sklearn.ensemble import RandomForestClassifier\n",
    "from xgboost import XGBClassifier,plot_importance\n",
    "from sklearn.svm import SVC\n",
    "from sklearn.neighbors import KNeighborsClassifier\n",
    "from sklearn.naive_bayes import GaussianNB\n",
    "from catboost import CatBoostClassifier\n",
    "from navec import Navec\n",
    "from sklearn.tree import DecisionTreeClassifier\n",
    "import umap\n",
    "# Remove warnings\n",
    "import warnings\n",
    "import pymorphy2\n",
    "warnings.simplefilter(action='ignore', category=FutureWarning)\n",
    "warnings.filterwarnings(\"ignore\", category=UserWarning)\n",
    "warnings.simplefilter(action='ignore', category=FutureWarning)\n",
    "warnings.simplefilter(action='ignore', category=pd.errors.PerformanceWarning)\n",
    "pd.options.mode.chained_assignment = None\n",
    "RANDOM_STATE = 42\n",
    "from sklearn.ensemble import VotingClassifier"
   ]
  },
  {
   "cell_type": "code",
   "execution_count": 23,
   "id": "be75fd97",
   "metadata": {},
   "outputs": [],
   "source": [
    "path = 'navec_hudlit_v1_12B_500K_300d_100q.tar'\n",
    "navec = Navec.load(path)"
   ]
  },
  {
   "attachments": {},
   "cell_type": "markdown",
   "id": "6beaf00e",
   "metadata": {},
   "source": [
    "## Preprocessing and Get Embeddings"
   ]
  },
  {
   "attachments": {},
   "cell_type": "markdown",
   "id": "debbdf69",
   "metadata": {},
   "source": [
    "Функция, которая разбивает словари, с парами 'ключ : метка' на отдельные строки "
   ]
  },
  {
   "cell_type": "code",
   "execution_count": 16,
   "id": "08a45eec",
   "metadata": {},
   "outputs": [],
   "source": [
    "def get_df(razmetka: pd.Series):\n",
    "    data = pd.DataFrame(data = {'слова' : razmetka.apply(lambda x: x.keys()).explode(0).values,\n",
    "                    'метки' : razmetka.apply(lambda x: x.values()).explode().values})\n",
    "    data = data[data.метки != '-'][data.метки != '1']\n",
    "    return data"
   ]
  },
  {
   "cell_type": "code",
   "execution_count": 17,
   "id": "8a36b364",
   "metadata": {},
   "outputs": [],
   "source": [
    "def prepr(data : pd.DataFrame):\n",
    "    data.метки = data.метки.apply(lambda x: 'бренд' if x in ['бред'] else x)\n",
    "    data.метки = data.метки.apply(lambda x: 'наз' if x in ['назн'] else x)\n",
    "    data.метки = data.метки.apply(lambda x: 'раз' if x in ['размер', 'разм'] else x)\n",
    "    data.метки = data.метки.apply(lambda x: 'тов' if x in ['товар'] else x)\n",
    "    data.метки = data.метки.apply(lambda x: 'мат' if x in ['материал'] else x)\n",
    "    data.метки = data.метки.apply(lambda x: 'мод' if x in ['модель'] else x)"
   ]
  },
  {
   "attachments": {},
   "cell_type": "markdown",
   "id": "c9108142",
   "metadata": {},
   "source": [
    "Разбивает один вектор эмбеддингов на разные столбцы"
   ]
  },
  {
   "cell_type": "code",
   "execution_count": 18,
   "id": "820aa68b",
   "metadata": {},
   "outputs": [],
   "source": [
    "def get_features(X):\n",
    "    \n",
    "    for i in range(len(X.iloc[0, 0])):\n",
    "        X[f'feat_{i+1}'] = X.Vec.apply(lambda x: x[i])\n",
    "    X = X.drop('Vec', axis = 1)\n",
    "    return X"
   ]
  },
  {
   "cell_type": "code",
   "execution_count": 19,
   "id": "78316b1f",
   "metadata": {},
   "outputs": [],
   "source": [
    "preprocessed = pd.read_json('razmetka/01_05.json')"
   ]
  },
  {
   "attachments": {},
   "cell_type": "markdown",
   "id": "7180f946",
   "metadata": {},
   "source": [
    "Как выглядит датасет после разметки"
   ]
  },
  {
   "cell_type": "code",
   "execution_count": 20,
   "id": "d2358a39",
   "metadata": {},
   "outputs": [
    {
     "data": {
      "text/html": [
       "<div>\n",
       "<style scoped>\n",
       "    .dataframe tbody tr th:only-of-type {\n",
       "        vertical-align: middle;\n",
       "    }\n",
       "\n",
       "    .dataframe tbody tr th {\n",
       "        vertical-align: top;\n",
       "    }\n",
       "\n",
       "    .dataframe thead th {\n",
       "        text-align: right;\n",
       "    }\n",
       "</style>\n",
       "<table border=\"1\" class=\"dataframe\">\n",
       "  <thead>\n",
       "    <tr style=\"text-align: right;\">\n",
       "      <th></th>\n",
       "      <th>Info</th>\n",
       "      <th>Norm_Title</th>\n",
       "      <th>Razme4</th>\n",
       "    </tr>\n",
       "  </thead>\n",
       "  <tbody>\n",
       "    <tr>\n",
       "      <th>100</th>\n",
       "      <td>[Аквавошер Clean Cube Pro - генератор ПАВ быто...</td>\n",
       "      <td>[аквавошер, clean, cube, рro, для, стиральный,...</td>\n",
       "      <td>{'аквавошер': 'тов', 'clean': 'бренд', 'cube':...</td>\n",
       "    </tr>\n",
       "    <tr>\n",
       "      <th>101</th>\n",
       "      <td>[Жесткий диск 500 Гб]</td>\n",
       "      <td>[жёсткий, диск, 500, гб]</td>\n",
       "      <td>{'жёсткий': 'тов', 'диск': 'тов', '500': '-', ...</td>\n",
       "    </tr>\n",
       "    <tr>\n",
       "      <th>102</th>\n",
       "      <td>[Код: 287811, Артикул: 00FN113, Производитель:...</td>\n",
       "      <td>[жёсткий, диск, жёсткий, диск, 1x2tb, sata, га...</td>\n",
       "      <td>{'жёсткий': 'тов', 'диск': 'тов', '1x2tb': 'ра...</td>\n",
       "    </tr>\n",
       "    <tr>\n",
       "      <th>103</th>\n",
       "      <td>[Заправка картриджа CF212A для техники моделей...</td>\n",
       "      <td>[заправка, картридж, cf212a, hp]</td>\n",
       "      <td>{'заправка': 'тов', 'картридж': 'тов', 'cf212a...</td>\n",
       "    </tr>\n",
       "    <tr>\n",
       "      <th>104</th>\n",
       "      <td>[Заправка всех видов лазерных картриджей,ремон...</td>\n",
       "      <td>[заправка, картридж]</td>\n",
       "      <td>{'заправка': 'тов', 'картридж': 'тов'}</td>\n",
       "    </tr>\n",
       "    <tr>\n",
       "      <th>...</th>\n",
       "      <td>...</td>\n",
       "      <td>...</td>\n",
       "      <td>...</td>\n",
       "    </tr>\n",
       "    <tr>\n",
       "      <th>80015</th>\n",
       "      <td>[Применяется со всеми типами ЛКМ.Рекомендуется...</td>\n",
       "      <td>[валик, pro, line, 250, мм, ворс, 18, мм, d, 4...</td>\n",
       "      <td>{'валик': 'тов', 'pro': 'мод', 'line': 'мод', ...</td>\n",
       "    </tr>\n",
       "    <tr>\n",
       "      <th>80016</th>\n",
       "      <td>[Ворс кисти – искусственная щетина, расщепленн...</td>\n",
       "      <td>[кисть, макловица, 170, х, 70, мм, искусственн...</td>\n",
       "      <td>{'кисть': 'тов', 'макловица': 'мат', '170': 'р...</td>\n",
       "    </tr>\n",
       "    <tr>\n",
       "      <th>80017</th>\n",
       "      <td>[Ворс кисти макловицы – натуральная щетина, ра...</td>\n",
       "      <td>[кисть, макловица, 50, х, 150, мм, натуральный...</td>\n",
       "      <td>{'кисть': 'тов', 'макловица': 'мат', '50': 'ра...</td>\n",
       "    </tr>\n",
       "    <tr>\n",
       "      <th>80018</th>\n",
       "      <td>[Артикул: 10089-30-06_z01 торговая марка: СИБИ...</td>\n",
       "      <td>[шпатель, нержавеющий, сибин, зубчатый, с, пла...</td>\n",
       "      <td>{'шпатель': 'тов', 'нержавеющий': 'тип', 'сиби...</td>\n",
       "    </tr>\n",
       "    <tr>\n",
       "      <th>80019</th>\n",
       "      <td>[Артикул: 10089-25-06_z01 торговая марка: СИБИ...</td>\n",
       "      <td>[шпатель, нержавеющий, сибин, зубчатый, с, пла...</td>\n",
       "      <td>{'шпатель': 'тов', 'нержавеющий': 'тип', 'сиби...</td>\n",
       "    </tr>\n",
       "  </tbody>\n",
       "</table>\n",
       "<p>193 rows × 3 columns</p>\n",
       "</div>"
      ],
      "text/plain": [
       "                                                    Info  \\\n",
       "100    [Аквавошер Clean Cube Pro - генератор ПАВ быто...   \n",
       "101                                [Жесткий диск 500 Гб]   \n",
       "102    [Код: 287811, Артикул: 00FN113, Производитель:...   \n",
       "103    [Заправка картриджа CF212A для техники моделей...   \n",
       "104    [Заправка всех видов лазерных картриджей,ремон...   \n",
       "...                                                  ...   \n",
       "80015  [Применяется со всеми типами ЛКМ.Рекомендуется...   \n",
       "80016  [Ворс кисти – искусственная щетина, расщепленн...   \n",
       "80017  [Ворс кисти макловицы – натуральная щетина, ра...   \n",
       "80018  [Артикул: 10089-30-06_z01 торговая марка: СИБИ...   \n",
       "80019  [Артикул: 10089-25-06_z01 торговая марка: СИБИ...   \n",
       "\n",
       "                                              Norm_Title  \\\n",
       "100    [аквавошер, clean, cube, рro, для, стиральный,...   \n",
       "101                             [жёсткий, диск, 500, гб]   \n",
       "102    [жёсткий, диск, жёсткий, диск, 1x2tb, sata, га...   \n",
       "103                     [заправка, картридж, cf212a, hp]   \n",
       "104                                 [заправка, картридж]   \n",
       "...                                                  ...   \n",
       "80015  [валик, pro, line, 250, мм, ворс, 18, мм, d, 4...   \n",
       "80016  [кисть, макловица, 170, х, 70, мм, искусственн...   \n",
       "80017  [кисть, макловица, 50, х, 150, мм, натуральный...   \n",
       "80018  [шпатель, нержавеющий, сибин, зубчатый, с, пла...   \n",
       "80019  [шпатель, нержавеющий, сибин, зубчатый, с, пла...   \n",
       "\n",
       "                                                  Razme4  \n",
       "100    {'аквавошер': 'тов', 'clean': 'бренд', 'cube':...  \n",
       "101    {'жёсткий': 'тов', 'диск': 'тов', '500': '-', ...  \n",
       "102    {'жёсткий': 'тов', 'диск': 'тов', '1x2tb': 'ра...  \n",
       "103    {'заправка': 'тов', 'картридж': 'тов', 'cf212a...  \n",
       "104               {'заправка': 'тов', 'картридж': 'тов'}  \n",
       "...                                                  ...  \n",
       "80015  {'валик': 'тов', 'pro': 'мод', 'line': 'мод', ...  \n",
       "80016  {'кисть': 'тов', 'макловица': 'мат', '170': 'р...  \n",
       "80017  {'кисть': 'тов', 'макловица': 'мат', '50': 'ра...  \n",
       "80018  {'шпатель': 'тов', 'нержавеющий': 'тип', 'сиби...  \n",
       "80019  {'шпатель': 'тов', 'нержавеющий': 'тип', 'сиби...  \n",
       "\n",
       "[193 rows x 3 columns]"
      ]
     },
     "execution_count": 20,
     "metadata": {},
     "output_type": "execute_result"
    }
   ],
   "source": [
    "preprocessed[preprocessed.Razme4.notna()]"
   ]
  },
  {
   "cell_type": "code",
   "execution_count": 23,
   "id": "2bcf461f",
   "metadata": {},
   "outputs": [],
   "source": [
    "preprocessed = pd.read_json('razmetka/01_05.json')\n",
    "dataset = preprocessed[preprocessed.Razme4.notna()].Razme4 ## оставляем только размеченные\n",
    "dataset = get_df(dataset)\n",
    "prepr(dataset)\n",
    "dataset = dataset[dataset.метки != 'цвет']\n",
    "dataset['Vec'] = dataset.слова.apply(lambda x: navec.get(x)) ## получаем эмбеддинги\n",
    "dataset = dataset[dataset.Vec.notna()]\n"
   ]
  },
  {
   "cell_type": "code",
   "execution_count": 24,
   "id": "246eeda3",
   "metadata": {},
   "outputs": [
    {
     "data": {
      "text/plain": [
       "тов      211\n",
       "тип       86\n",
       "наз       62\n",
       "мат       36\n",
       "раз       30\n",
       "бренд     14\n",
       "мод       14\n",
       "гор        3\n",
       "гост       2\n",
       "Name: метки, dtype: int64"
      ]
     },
     "execution_count": 24,
     "metadata": {},
     "output_type": "execute_result"
    }
   ],
   "source": [
    "dataset.метки.value_counts()"
   ]
  },
  {
   "cell_type": "code",
   "execution_count": 18,
   "id": "01ffde54",
   "metadata": {},
   "outputs": [
    {
     "data": {
      "text/plain": [
       "array(['бренд', 'наз', 'тов', 'раз', 'тип', 'мат', 'гор', 'гост', 'мод'],\n",
       "      dtype=object)"
      ]
     },
     "execution_count": 18,
     "metadata": {},
     "output_type": "execute_result"
    }
   ],
   "source": [
    "dataset.метки.unique()"
   ]
  },
  {
   "attachments": {},
   "cell_type": "markdown",
   "id": "3c1ba47e",
   "metadata": {},
   "source": [
    "Энкодинг получившихся меток c LabelEncoder и получение эмбеддингов.\n",
    "Для получения эмбеддингов(размерности 300) использовалась библиотека Navec, но в ней были эмбеддинги не для всех слов. Те, которых не оказалось были убраны из выборки."
   ]
  },
  {
   "cell_type": "code",
   "execution_count": 25,
   "id": "4f570294",
   "metadata": {},
   "outputs": [],
   "source": [
    "encoder = LabelEncoder()\n",
    "y = encoder.fit_transform(dataset.метки)\n",
    "X = dataset[['Vec']]\n",
    "X = get_features(X)"
   ]
  },
  {
   "cell_type": "code",
   "execution_count": 26,
   "id": "85013a25",
   "metadata": {},
   "outputs": [
    {
     "data": {
      "text/plain": [
       "(8    211\n",
       " 7     86\n",
       " 5     62\n",
       " 3     36\n",
       " 6     30\n",
       " 0     14\n",
       " 4     14\n",
       " 1      3\n",
       " 2      2\n",
       " dtype: int64,\n",
       " тов      211\n",
       " тип       86\n",
       " наз       62\n",
       " мат       36\n",
       " раз       30\n",
       " бренд     14\n",
       " мод       14\n",
       " гор        3\n",
       " гост       2\n",
       " Name: метки, dtype: int64)"
      ]
     },
     "execution_count": 26,
     "metadata": {},
     "output_type": "execute_result"
    }
   ],
   "source": [
    "pd.Series(y).value_counts(), dataset.метки.value_counts()"
   ]
  },
  {
   "cell_type": "code",
   "execution_count": 27,
   "id": "c4e8e04f",
   "metadata": {},
   "outputs": [],
   "source": [
    "dict_ = dict(zip((list(pd.Series(y).value_counts().index)), list(dataset.метки.value_counts().index)))"
   ]
  },
  {
   "cell_type": "code",
   "execution_count": 36,
   "id": "f19b98b2",
   "metadata": {},
   "outputs": [
    {
     "data": {
      "text/plain": [
       "{8: 'тов',\n",
       " 7: 'тип',\n",
       " 5: 'наз',\n",
       " 3: 'мат',\n",
       " 6: 'раз',\n",
       " 0: 'бренд',\n",
       " 4: 'мод',\n",
       " 1: 'гор',\n",
       " 2: 'гост'}"
      ]
     },
     "execution_count": 36,
     "metadata": {},
     "output_type": "execute_result"
    }
   ],
   "source": [
    "dict_ словарь для составления соответствий"
   ]
  },
  {
   "cell_type": "code",
   "execution_count": 22,
   "id": "2e3d5c61",
   "metadata": {},
   "outputs": [],
   "source": [
    "assert X.values.shape[0]  == y.ravel().shape[0]"
   ]
  },
  {
   "cell_type": "code",
   "execution_count": 23,
   "id": "66021d38",
   "metadata": {},
   "outputs": [],
   "source": [
    "X.to_csv('clean_data/X.csv', index=False)\n",
    "pd.Series(y).to_csv('clean_data/y.csv', index=False)"
   ]
  },
  {
   "attachments": {},
   "cell_type": "markdown",
   "id": "ffbdab3e",
   "metadata": {},
   "source": [
    "## Scatter after Umap"
   ]
  },
  {
   "attachments": {},
   "cell_type": "markdown",
   "id": "e52128c8",
   "metadata": {},
   "source": [
    "UMAP - метод понижения размерности, который возвращает вектор размерности 2"
   ]
  },
  {
   "cell_type": "code",
   "execution_count": 24,
   "id": "222c4cf5",
   "metadata": {},
   "outputs": [],
   "source": [
    "X_umaped = pd.read_csv('clean_data/X_umaped.csv')\n"
   ]
  },
  {
   "cell_type": "code",
   "execution_count": 25,
   "id": "325d887f",
   "metadata": {},
   "outputs": [
    {
     "data": {
      "image/png": "[encoded data removed]",
      "text/plain": [
       "<Figure size 800x550 with 2 Axes>"
      ]
     },
     "metadata": {},
     "output_type": "display_data"
    }
   ],
   "source": [
    "plt.scatter(X_umaped.loc[:, '0'], X_umaped.loc[:, '1'], c=data.метки.unique(), cmap='Spectral', s=10)\n",
    "plt.gca().set_aspect('equal', 'datalim')\n",
    "plt.colorbar(boundaries=np.arange(11)-0.5).set_ticks(np.arange(10))\n",
    "plt.title('UMAP projection', fontsize=24);"
   ]
  },
  {
   "attachments": {},
   "cell_type": "markdown",
   "id": "3333f1bc",
   "metadata": {},
   "source": [
    " По данному скаттерплоту, что какие-то точки разделяются очевидно, другие же нет."
   ]
  },
  {
   "attachments": {},
   "cell_type": "markdown",
   "id": "4491fc97",
   "metadata": {},
   "source": [
    "### Classes to get first models"
   ]
  },
  {
   "attachments": {},
   "cell_type": "markdown",
   "id": "9d7432e2",
   "metadata": {},
   "source": [
    "Класс для кроссвалидации внутри models_summary "
   ]
  },
  {
   "cell_type": "code",
   "execution_count": 8,
   "id": "6b52d405",
   "metadata": {},
   "outputs": [],
   "source": [
    "class Splitter:\n",
    "    def __init__(self, kfold = True, n_repeats = None, n_splits = 5, shuffle = True):\n",
    "        self.kfold = kfold\n",
    "        self.n_repeats = n_repeats\n",
    "        self.n_splits = n_splits\n",
    "        self.shuffle = shuffle\n",
    "        \n",
    "    def split_data(self, X, y):\n",
    "        if self.n_repeats:\n",
    "            kf = RepeatedStratifiedKFold(n_repeats = self.n_repeats, n_splits = self.n_splits, shuffle = self.shuffle)\n",
    "        \n",
    "        else:\n",
    "            kf = StratifiedKFold(n_splits = self.n_splits, shuffle = self.shuffle)\n",
    "        \n",
    "        for train_idx, val_idx in kf.split(X, y):\n",
    "            X_train, X_val = X[train_idx, :], X[val_idx, :]\n",
    "            y_train, y_val = y[train_idx], y[val_idx]\n",
    "            yield X_train, X_val, y_train, y_val\n",
    "    "
   ]
  },
  {
   "attachments": {},
   "cell_type": "markdown",
   "id": "58f4a5ed",
   "metadata": {},
   "source": [
    "Класс получения начальных моделей"
   ]
  },
  {
   "cell_type": "code",
   "execution_count": 9,
   "id": "a8cb95b5",
   "metadata": {},
   "outputs": [],
   "source": [
    "class models_summary():\n",
    "    def __init__(self, classifiers =  {'SVC':SVC(), \n",
    "                            'RF':RandomForestClassifier(), \n",
    "                            'CatBoost':CatBoostClassifier(silent=True), \n",
    "                            'LogReg':LogisticRegression()}):\n",
    "        self.classifiers = classifiers\n",
    "        self.cv_results = dict(zip(list(self.classifiers.keys()), [None] * len(self.classifiers))) \n",
    "         \n",
    "        self.holdout_results = dict(zip(list(self.classifiers.keys()), [None] * len(self.classifiers)))\n",
    "                \n",
    "        \n",
    "    def fit(self, X_ : np.array, y_ : np.array, holdout_size = 0.2, random_state = None, n_splits = 5):\n",
    "        self.n_splits = n_splits\n",
    "        self.holdout_size = holdout_size\n",
    "        self.X, self.X_holdout, self.y, self.y_holdout = train_test_split(X_, y_,\\\n",
    "                                                                          test_size=self.holdout_size, stratify = y_)\n",
    "\n",
    "        for classifier_name in list(self.classifiers.keys()):\n",
    "            splitter = Splitter(n_splits=self.n_splits)\n",
    "            model = self.classifiers[classifier_name]\n",
    "            self.cv_results[classifier_name] = []\n",
    "            for X_train, X_val, y_train, y_val in splitter.split_data(self.X, self.y):\n",
    "                model.fit(X_train, y_train)\n",
    "                score = model.score(X_val, y_val)\n",
    "                self.cv_results[classifier_name].append(score)\n",
    "\n",
    "            holdout_score = model.score(self.X_holdout, self.y_holdout)\n",
    "            self.holdout_results[classifier_name] = holdout_score\n",
    "\n",
    "            print(f'{classifier_name} fitted,\\nHoldout Result = {holdout_score}')\n",
    "        return pd.DataFrame({'model_name' : list(self.classifiers.keys()),\n",
    "                            'holdout_score' : list(self.holdout_results.values())})\n",
    "\n",
    "        \n",
    "        \n",
    "        \n",
    "        "
   ]
  },
  {
   "cell_type": "code",
   "execution_count": 10,
   "id": "4a1ec55f",
   "metadata": {},
   "outputs": [
    {
     "name": "stdout",
     "output_type": "stream",
     "text": [
      "SVC fitted,\n",
      "Holdout Result = 0.75\n",
      "RF fitted,\n",
      "Holdout Result = 0.7282608695652174\n",
      "CatBoost fitted,\n",
      "Holdout Result = 0.7282608695652174\n",
      "LogReg fitted,\n",
      "Holdout Result = 0.782608695652174\n"
     ]
    }
   ],
   "source": [
    "summary = models_summary()\n",
    "df = summary.fit(X.values, y, n_splits = 4)"
   ]
  },
  {
   "attachments": {},
   "cell_type": "markdown",
   "id": "75101f31",
   "metadata": {},
   "source": [
    "## Split Data"
   ]
  },
  {
   "attachments": {},
   "cell_type": "markdown",
   "id": "10561a29",
   "metadata": {},
   "source": [
    "Разделение выборки на тренировочную и отложенную"
   ]
  },
  {
   "cell_type": "code",
   "execution_count": 23,
   "id": "46df34c2",
   "metadata": {},
   "outputs": [],
   "source": [
    "X_train, X_holdout, y_train, y_holdout = train_test_split(X, y, test_size = 0.2)"
   ]
  },
  {
   "cell_type": "code",
   "execution_count": 25,
   "id": "1aecf64a",
   "metadata": {},
   "outputs": [],
   "source": [
    "pd.DataFrame(X_train).to_csv('clean_data/X_train.csv')\n",
    "pd.DataFrame(X_holdout).to_csv('clean_data/X_holdout.csv')\n",
    "pd.DataFrame(y_train).to_csv('clean_data/y_train.csv')\n",
    "pd.DataFrame(y_holdout).to_csv('clean_data/y_holdout.csv')"
   ]
  },
  {
   "cell_type": "code",
   "execution_count": 2,
   "id": "a25a89bd",
   "metadata": {},
   "outputs": [],
   "source": [
    "X_train = pd.read_csv('clean_data/X_train.csv', index_col=0)\n",
    "y_train = pd.read_csv('clean_data/y_train.csv', index_col=0)\n",
    "y_holdout = pd.read_csv('clean_data/y_holdout.csv', index_col=0)\n",
    "X_holdout = pd.read_csv('clean_data/X_holdout.csv', index_col=0)"
   ]
  },
  {
   "attachments": {},
   "cell_type": "markdown",
   "id": "489d80cd",
   "metadata": {},
   "source": [
    "## Grids"
   ]
  },
  {
   "attachments": {},
   "cell_type": "markdown",
   "id": "228b7de3",
   "metadata": {},
   "source": [
    "Сетки для последующего гридсерча"
   ]
  },
  {
   "cell_type": "code",
   "execution_count": 42,
   "id": "eb19f77a",
   "metadata": {},
   "outputs": [],
   "source": [
    "n_samples = X.shape[0]\n",
    "n_features = X.shape[1]"
   ]
  },
  {
   "cell_type": "code",
   "execution_count": 78,
   "id": "3955f90f",
   "metadata": {},
   "outputs": [],
   "source": [
    "RF_grid = { \n",
    "    'n_estimators': [150, 175, 200, 225, 250, 275, 300],\n",
    "    'max_features': ['sqrt'],\n",
    "    'max_depth' : [7,8, 9, 10, 11],\n",
    "}\n",
    "CatBoost_grid = {'depth'         : [4,5,6,7,8],\n",
    "                 'learning_rate' : [0.01,0.02,0.03,0.04],\n",
    "                  'iterations'    : [10, 20,30,40,50,60,70]\n",
    "                 }\n",
    "\n",
    "logreg_grid = {'penalty' : ['l2', 'l1'],\n",
    "               'C' : [0.25, 0.5, 0.8, 1]\n",
    "}\n",
    "\n",
    "\n",
    "DecisionTree_grid ={\n",
    "                    'max_depth': [6,7,8,9,10,11,12,13],\n",
    "                    'max_features': ['sqrt','log2', 0.3,0.5,0.7, n_features//2, n_features//3],\n",
    "                    'min_samples_split': [2,0.3,0.5, n_samples//2, n_samples//3, n_samples//5],\n",
    "                    'min_samples_leaf':[1, 0.3,0.5, n_samples//2, n_samples//3, n_samples//5]}"
   ]
  },
  {
   "attachments": {},
   "cell_type": "markdown",
   "id": "2927c23c",
   "metadata": {},
   "source": [
    "## GridSearch"
   ]
  },
  {
   "cell_type": "code",
   "execution_count": 79,
   "id": "9c5bd783",
   "metadata": {},
   "outputs": [],
   "source": [
    "estimators = {RandomForestClassifier() : [RF_grid, 'RF'], \n",
    "              LogisticRegression() : [logreg_grid, 'LogReg'],\n",
    "            DecisionTreeClassifier() : [DecisionTree_grid, 'Tree']}\n",
    "names = ['RF', 'LogReg', 'Tree']\n",
    "f1_macro= make_scorer(f1_score, average = 'macro')\n",
    "cv = StratifiedKFold(n_splits=4, random_state=42, shuffle=True)"
   ]
  },
  {
   "attachments": {},
   "cell_type": "markdown",
   "id": "97dacbe7",
   "metadata": {},
   "source": [
    "Провожу поиск оптимальных гиперпараметров по сетке(GridSearch), используя в качестве скора f1 macro, так как надо учитывать f1 по всем классам.\n",
    "Все результаты кросс-валидации и параметры лучших моделей сохраняются в json файлы"
   ]
  },
  {
   "cell_type": "code",
   "execution_count": 80,
   "id": "a31e90bf",
   "metadata": {},
   "outputs": [
    {
     "name": "stdout",
     "output_type": "stream",
     "text": [
      "RF Fitted\n",
      "Best Score:0.5829846053766348\n",
      "File cv_results/RF_results.json written!\n",
      "File cv_results/RF_best_params.json written\n",
      "------------------------------\n"
     ]
    },
    {
     "name": "stderr",
     "output_type": "stream",
     "text": [
      "d:\\anaconda\\lib\\site-packages\\sklearn\\model_selection\\_validation.py:378: FitFailedWarning: \n",
      "16 fits failed out of a total of 32.\n",
      "The score on these train-test partitions for these parameters will be set to nan.\n",
      "If these failures are not expected, you can try to debug them by setting error_score='raise'.\n",
      "\n",
      "Below are more details about the failures:\n",
      "--------------------------------------------------------------------------------\n",
      "16 fits failed with the following error:\n",
      "Traceback (most recent call last):\n",
      "  File \"d:\\anaconda\\lib\\site-packages\\sklearn\\model_selection\\_validation.py\", line 686, in _fit_and_score\n",
      "    estimator.fit(X_train, y_train, **fit_params)\n",
      "  File \"d:\\anaconda\\lib\\site-packages\\sklearn\\linear_model\\_logistic.py\", line 1162, in fit\n",
      "    solver = _check_solver(self.solver, self.penalty, self.dual)\n",
      "  File \"d:\\anaconda\\lib\\site-packages\\sklearn\\linear_model\\_logistic.py\", line 54, in _check_solver\n",
      "    raise ValueError(\n",
      "ValueError: Solver lbfgs supports only 'l2' or 'none' penalties, got l1 penalty.\n",
      "\n",
      "  warnings.warn(some_fits_failed_message, FitFailedWarning)\n"
     ]
    },
    {
     "name": "stdout",
     "output_type": "stream",
     "text": [
      "LogReg Fitted\n",
      "Best Score:0.6011481004134294\n",
      "File cv_results/LogReg_results.json written!\n",
      "File cv_results/LogReg_best_params.json written\n",
      "------------------------------\n",
      "Tree Fitted\n",
      "Best Score:0.5734620543307978\n",
      "File cv_results/Tree_results.json written!\n",
      "File cv_results/Tree_best_params.json written\n",
      "------------------------------\n"
     ]
    }
   ],
   "source": [
    "data= {}\n",
    "for estimator, grid in list(estimators.items()):\n",
    "    gridsearch = GridSearchCV(estimator=estimator, param_grid=grid[:-1], scoring=f1_macro, cv=cv)\n",
    "    gridsearch.fit(X_train, y_train)\n",
    "    print(f'{grid[-1]} Fitted\\nBest Score:{gridsearch.best_score_}')\n",
    "    data[grid[-1]] = gridsearch.best_score_\n",
    "    \n",
    "    pd.DataFrame(gridsearch.cv_results_).to_json(f'cv_results/{grid[-1]}_results.json')\n",
    "    print(f'File cv_results/{grid[-1]}_results.json written!')\n",
    "    pd.DataFrame(gridsearch.best_params_, index = [1]).to_json(f'cv_results/{grid[-1]}_best_params.json', index=False, orient='table')\n",
    "    print(f'File cv_results/{grid[-1]}_best_params.json written')\n",
    "    print('-'*30)"
   ]
  },
  {
   "attachments": {},
   "cell_type": "markdown",
   "id": "d52b54d1",
   "metadata": {},
   "source": [
    "### Get DataFrame"
   ]
  },
  {
   "cell_type": "code",
   "execution_count": 56,
   "id": "f507d323",
   "metadata": {},
   "outputs": [
    {
     "data": {
      "text/html": [
       "<div>\n",
       "<style scoped>\n",
       "    .dataframe tbody tr th:only-of-type {\n",
       "        vertical-align: middle;\n",
       "    }\n",
       "\n",
       "    .dataframe tbody tr th {\n",
       "        vertical-align: top;\n",
       "    }\n",
       "\n",
       "    .dataframe thead th {\n",
       "        text-align: right;\n",
       "    }\n",
       "</style>\n",
       "<table border=\"1\" class=\"dataframe\">\n",
       "  <thead>\n",
       "    <tr style=\"text-align: right;\">\n",
       "      <th></th>\n",
       "      <th>params</th>\n",
       "      <th>mean_test_score</th>\n",
       "      <th>std_test_score</th>\n",
       "    </tr>\n",
       "  </thead>\n",
       "  <tbody>\n",
       "    <tr>\n",
       "      <th>1764</th>\n",
       "      <td>{'max_depth': 12, 'max_features': 'auto', 'min...</td>\n",
       "      <td>0.568837</td>\n",
       "      <td>0.085495</td>\n",
       "    </tr>\n",
       "    <tr>\n",
       "      <th>1512</th>\n",
       "      <td>{'max_depth': 11, 'max_features': 'log2', 'min...</td>\n",
       "      <td>0.542773</td>\n",
       "      <td>0.085256</td>\n",
       "    </tr>\n",
       "    <tr>\n",
       "      <th>1980</th>\n",
       "      <td>{'max_depth': 12, 'max_features': 100, 'min_sa...</td>\n",
       "      <td>0.541725</td>\n",
       "      <td>0.074352</td>\n",
       "    </tr>\n",
       "    <tr>\n",
       "      <th>1296</th>\n",
       "      <td>{'max_depth': 10, 'max_features': 0.5, 'min_sa...</td>\n",
       "      <td>0.540830</td>\n",
       "      <td>0.072160</td>\n",
       "    </tr>\n",
       "    <tr>\n",
       "      <th>2160</th>\n",
       "      <td>{'max_depth': 13, 'max_features': 0.5, 'min_sa...</td>\n",
       "      <td>0.539983</td>\n",
       "      <td>0.042873</td>\n",
       "    </tr>\n",
       "    <tr>\n",
       "      <th>1584</th>\n",
       "      <td>{'max_depth': 11, 'max_features': 0.5, 'min_sa...</td>\n",
       "      <td>0.539467</td>\n",
       "      <td>0.071232</td>\n",
       "    </tr>\n",
       "    <tr>\n",
       "      <th>1116</th>\n",
       "      <td>{'max_depth': 9, 'max_features': 100, 'min_sam...</td>\n",
       "      <td>0.532386</td>\n",
       "      <td>0.084043</td>\n",
       "    </tr>\n",
       "    <tr>\n",
       "      <th>1260</th>\n",
       "      <td>{'max_depth': 10, 'max_features': 0.3000000000...</td>\n",
       "      <td>0.528163</td>\n",
       "      <td>0.050259</td>\n",
       "    </tr>\n",
       "    <tr>\n",
       "      <th>504</th>\n",
       "      <td>{'max_depth': 7, 'max_features': 150, 'min_sam...</td>\n",
       "      <td>0.524261</td>\n",
       "      <td>0.038343</td>\n",
       "    </tr>\n",
       "    <tr>\n",
       "      <th>792</th>\n",
       "      <td>{'max_depth': 8, 'max_features': 150, 'min_sam...</td>\n",
       "      <td>0.514868</td>\n",
       "      <td>0.070929</td>\n",
       "    </tr>\n",
       "  </tbody>\n",
       "</table>\n",
       "</div>"
      ],
      "text/plain": [
       "                                                 params  mean_test_score  \\\n",
       "1764  {'max_depth': 12, 'max_features': 'auto', 'min...         0.568837   \n",
       "1512  {'max_depth': 11, 'max_features': 'log2', 'min...         0.542773   \n",
       "1980  {'max_depth': 12, 'max_features': 100, 'min_sa...         0.541725   \n",
       "1296  {'max_depth': 10, 'max_features': 0.5, 'min_sa...         0.540830   \n",
       "2160  {'max_depth': 13, 'max_features': 0.5, 'min_sa...         0.539983   \n",
       "1584  {'max_depth': 11, 'max_features': 0.5, 'min_sa...         0.539467   \n",
       "1116  {'max_depth': 9, 'max_features': 100, 'min_sam...         0.532386   \n",
       "1260  {'max_depth': 10, 'max_features': 0.3000000000...         0.528163   \n",
       "504   {'max_depth': 7, 'max_features': 150, 'min_sam...         0.524261   \n",
       "792   {'max_depth': 8, 'max_features': 150, 'min_sam...         0.514868   \n",
       "\n",
       "      std_test_score  \n",
       "1764        0.085495  \n",
       "1512        0.085256  \n",
       "1980        0.074352  \n",
       "1296        0.072160  \n",
       "2160        0.042873  \n",
       "1584        0.071232  \n",
       "1116        0.084043  \n",
       "1260        0.050259  \n",
       "504         0.038343  \n",
       "792         0.070929  "
      ]
     },
     "execution_count": 56,
     "metadata": {},
     "output_type": "execute_result"
    }
   ],
   "source": [
    "pd.read_json('cv_results/Tree_results.json').loc[:, ['params', 'mean_test_score', 'std_test_score']].sort_values(by = 'mean_test_score', ascending=False).head(10)"
   ]
  },
  {
   "cell_type": "code",
   "execution_count": 57,
   "id": "d7561fa7",
   "metadata": {},
   "outputs": [
    {
     "data": {
      "text/html": [
       "<div>\n",
       "<style scoped>\n",
       "    .dataframe tbody tr th:only-of-type {\n",
       "        vertical-align: middle;\n",
       "    }\n",
       "\n",
       "    .dataframe tbody tr th {\n",
       "        vertical-align: top;\n",
       "    }\n",
       "\n",
       "    .dataframe thead th {\n",
       "        text-align: right;\n",
       "    }\n",
       "</style>\n",
       "<table border=\"1\" class=\"dataframe\">\n",
       "  <thead>\n",
       "    <tr style=\"text-align: right;\">\n",
       "      <th></th>\n",
       "      <th>params</th>\n",
       "      <th>mean_test_score</th>\n",
       "      <th>std_test_score</th>\n",
       "    </tr>\n",
       "  </thead>\n",
       "  <tbody>\n",
       "    <tr>\n",
       "      <th>0</th>\n",
       "      <td>{'C': 0.25, 'penalty': 'l2'}</td>\n",
       "      <td>0.601148</td>\n",
       "      <td>0.070753</td>\n",
       "    </tr>\n",
       "    <tr>\n",
       "      <th>4</th>\n",
       "      <td>{'C': 0.8, 'penalty': 'l2'}</td>\n",
       "      <td>0.600156</td>\n",
       "      <td>0.081289</td>\n",
       "    </tr>\n",
       "    <tr>\n",
       "      <th>2</th>\n",
       "      <td>{'C': 0.5, 'penalty': 'l2'}</td>\n",
       "      <td>0.598790</td>\n",
       "      <td>0.078667</td>\n",
       "    </tr>\n",
       "    <tr>\n",
       "      <th>6</th>\n",
       "      <td>{'C': 1, 'penalty': 'l2'}</td>\n",
       "      <td>0.597833</td>\n",
       "      <td>0.079014</td>\n",
       "    </tr>\n",
       "    <tr>\n",
       "      <th>1</th>\n",
       "      <td>{'C': 0.25, 'penalty': 'l1'}</td>\n",
       "      <td>NaN</td>\n",
       "      <td>NaN</td>\n",
       "    </tr>\n",
       "    <tr>\n",
       "      <th>3</th>\n",
       "      <td>{'C': 0.5, 'penalty': 'l1'}</td>\n",
       "      <td>NaN</td>\n",
       "      <td>NaN</td>\n",
       "    </tr>\n",
       "    <tr>\n",
       "      <th>5</th>\n",
       "      <td>{'C': 0.8, 'penalty': 'l1'}</td>\n",
       "      <td>NaN</td>\n",
       "      <td>NaN</td>\n",
       "    </tr>\n",
       "    <tr>\n",
       "      <th>7</th>\n",
       "      <td>{'C': 1, 'penalty': 'l1'}</td>\n",
       "      <td>NaN</td>\n",
       "      <td>NaN</td>\n",
       "    </tr>\n",
       "  </tbody>\n",
       "</table>\n",
       "</div>"
      ],
      "text/plain": [
       "                         params  mean_test_score  std_test_score\n",
       "0  {'C': 0.25, 'penalty': 'l2'}         0.601148        0.070753\n",
       "4   {'C': 0.8, 'penalty': 'l2'}         0.600156        0.081289\n",
       "2   {'C': 0.5, 'penalty': 'l2'}         0.598790        0.078667\n",
       "6     {'C': 1, 'penalty': 'l2'}         0.597833        0.079014\n",
       "1  {'C': 0.25, 'penalty': 'l1'}              NaN             NaN\n",
       "3   {'C': 0.5, 'penalty': 'l1'}              NaN             NaN\n",
       "5   {'C': 0.8, 'penalty': 'l1'}              NaN             NaN\n",
       "7     {'C': 1, 'penalty': 'l1'}              NaN             NaN"
      ]
     },
     "execution_count": 57,
     "metadata": {},
     "output_type": "execute_result"
    }
   ],
   "source": [
    "pd.read_json('cv_results/LogReg_results.json').loc[:, ['params', 'mean_test_score', 'std_test_score']].sort_values(by = 'mean_test_score', ascending=False).head(10)"
   ]
  },
  {
   "cell_type": "code",
   "execution_count": 58,
   "id": "c3b48cb3",
   "metadata": {},
   "outputs": [
    {
     "data": {
      "text/html": [
       "<div>\n",
       "<style scoped>\n",
       "    .dataframe tbody tr th:only-of-type {\n",
       "        vertical-align: middle;\n",
       "    }\n",
       "\n",
       "    .dataframe tbody tr th {\n",
       "        vertical-align: top;\n",
       "    }\n",
       "\n",
       "    .dataframe thead th {\n",
       "        text-align: right;\n",
       "    }\n",
       "</style>\n",
       "<table border=\"1\" class=\"dataframe\">\n",
       "  <thead>\n",
       "    <tr style=\"text-align: right;\">\n",
       "      <th></th>\n",
       "      <th>params</th>\n",
       "      <th>mean_test_score</th>\n",
       "      <th>std_test_score</th>\n",
       "    </tr>\n",
       "  </thead>\n",
       "  <tbody>\n",
       "    <tr>\n",
       "      <th>17</th>\n",
       "      <td>{'max_depth': 9, 'max_features': 'sqrt', 'n_es...</td>\n",
       "      <td>0.572496</td>\n",
       "      <td>0.050112</td>\n",
       "    </tr>\n",
       "    <tr>\n",
       "      <th>0</th>\n",
       "      <td>{'max_depth': 7, 'max_features': 'sqrt', 'n_es...</td>\n",
       "      <td>0.571550</td>\n",
       "      <td>0.063041</td>\n",
       "    </tr>\n",
       "    <tr>\n",
       "      <th>26</th>\n",
       "      <td>{'max_depth': 10, 'max_features': 'sqrt', 'n_e...</td>\n",
       "      <td>0.570467</td>\n",
       "      <td>0.058160</td>\n",
       "    </tr>\n",
       "    <tr>\n",
       "      <th>22</th>\n",
       "      <td>{'max_depth': 10, 'max_features': 'sqrt', 'n_e...</td>\n",
       "      <td>0.570010</td>\n",
       "      <td>0.051996</td>\n",
       "    </tr>\n",
       "    <tr>\n",
       "      <th>19</th>\n",
       "      <td>{'max_depth': 9, 'max_features': 'sqrt', 'n_es...</td>\n",
       "      <td>0.569284</td>\n",
       "      <td>0.061374</td>\n",
       "    </tr>\n",
       "    <tr>\n",
       "      <th>9</th>\n",
       "      <td>{'max_depth': 8, 'max_features': 'sqrt', 'n_es...</td>\n",
       "      <td>0.568374</td>\n",
       "      <td>0.044902</td>\n",
       "    </tr>\n",
       "    <tr>\n",
       "      <th>8</th>\n",
       "      <td>{'max_depth': 8, 'max_features': 'sqrt', 'n_es...</td>\n",
       "      <td>0.566905</td>\n",
       "      <td>0.052895</td>\n",
       "    </tr>\n",
       "    <tr>\n",
       "      <th>31</th>\n",
       "      <td>{'max_depth': 11, 'max_features': 'sqrt', 'n_e...</td>\n",
       "      <td>0.566868</td>\n",
       "      <td>0.064875</td>\n",
       "    </tr>\n",
       "    <tr>\n",
       "      <th>10</th>\n",
       "      <td>{'max_depth': 8, 'max_features': 'sqrt', 'n_es...</td>\n",
       "      <td>0.566803</td>\n",
       "      <td>0.063710</td>\n",
       "    </tr>\n",
       "    <tr>\n",
       "      <th>28</th>\n",
       "      <td>{'max_depth': 11, 'max_features': 'sqrt', 'n_e...</td>\n",
       "      <td>0.566547</td>\n",
       "      <td>0.055017</td>\n",
       "    </tr>\n",
       "    <tr>\n",
       "      <th>29</th>\n",
       "      <td>{'max_depth': 11, 'max_features': 'sqrt', 'n_e...</td>\n",
       "      <td>0.566534</td>\n",
       "      <td>0.059314</td>\n",
       "    </tr>\n",
       "    <tr>\n",
       "      <th>18</th>\n",
       "      <td>{'max_depth': 9, 'max_features': 'sqrt', 'n_es...</td>\n",
       "      <td>0.565774</td>\n",
       "      <td>0.063662</td>\n",
       "    </tr>\n",
       "    <tr>\n",
       "      <th>11</th>\n",
       "      <td>{'max_depth': 8, 'max_features': 'sqrt', 'n_es...</td>\n",
       "      <td>0.565624</td>\n",
       "      <td>0.065077</td>\n",
       "    </tr>\n",
       "    <tr>\n",
       "      <th>4</th>\n",
       "      <td>{'max_depth': 7, 'max_features': 'sqrt', 'n_es...</td>\n",
       "      <td>0.565517</td>\n",
       "      <td>0.056706</td>\n",
       "    </tr>\n",
       "    <tr>\n",
       "      <th>13</th>\n",
       "      <td>{'max_depth': 8, 'max_features': 'sqrt', 'n_es...</td>\n",
       "      <td>0.565136</td>\n",
       "      <td>0.049310</td>\n",
       "    </tr>\n",
       "    <tr>\n",
       "      <th>33</th>\n",
       "      <td>{'max_depth': 11, 'max_features': 'sqrt', 'n_e...</td>\n",
       "      <td>0.565127</td>\n",
       "      <td>0.058481</td>\n",
       "    </tr>\n",
       "    <tr>\n",
       "      <th>25</th>\n",
       "      <td>{'max_depth': 10, 'max_features': 'sqrt', 'n_e...</td>\n",
       "      <td>0.564737</td>\n",
       "      <td>0.060052</td>\n",
       "    </tr>\n",
       "    <tr>\n",
       "      <th>6</th>\n",
       "      <td>{'max_depth': 7, 'max_features': 'sqrt', 'n_es...</td>\n",
       "      <td>0.564377</td>\n",
       "      <td>0.059684</td>\n",
       "    </tr>\n",
       "    <tr>\n",
       "      <th>2</th>\n",
       "      <td>{'max_depth': 7, 'max_features': 'sqrt', 'n_es...</td>\n",
       "      <td>0.564249</td>\n",
       "      <td>0.057190</td>\n",
       "    </tr>\n",
       "    <tr>\n",
       "      <th>5</th>\n",
       "      <td>{'max_depth': 7, 'max_features': 'sqrt', 'n_es...</td>\n",
       "      <td>0.564103</td>\n",
       "      <td>0.045989</td>\n",
       "    </tr>\n",
       "  </tbody>\n",
       "</table>\n",
       "</div>"
      ],
      "text/plain": [
       "                                               params  mean_test_score  \\\n",
       "17  {'max_depth': 9, 'max_features': 'sqrt', 'n_es...         0.572496   \n",
       "0   {'max_depth': 7, 'max_features': 'sqrt', 'n_es...         0.571550   \n",
       "26  {'max_depth': 10, 'max_features': 'sqrt', 'n_e...         0.570467   \n",
       "22  {'max_depth': 10, 'max_features': 'sqrt', 'n_e...         0.570010   \n",
       "19  {'max_depth': 9, 'max_features': 'sqrt', 'n_es...         0.569284   \n",
       "9   {'max_depth': 8, 'max_features': 'sqrt', 'n_es...         0.568374   \n",
       "8   {'max_depth': 8, 'max_features': 'sqrt', 'n_es...         0.566905   \n",
       "31  {'max_depth': 11, 'max_features': 'sqrt', 'n_e...         0.566868   \n",
       "10  {'max_depth': 8, 'max_features': 'sqrt', 'n_es...         0.566803   \n",
       "28  {'max_depth': 11, 'max_features': 'sqrt', 'n_e...         0.566547   \n",
       "29  {'max_depth': 11, 'max_features': 'sqrt', 'n_e...         0.566534   \n",
       "18  {'max_depth': 9, 'max_features': 'sqrt', 'n_es...         0.565774   \n",
       "11  {'max_depth': 8, 'max_features': 'sqrt', 'n_es...         0.565624   \n",
       "4   {'max_depth': 7, 'max_features': 'sqrt', 'n_es...         0.565517   \n",
       "13  {'max_depth': 8, 'max_features': 'sqrt', 'n_es...         0.565136   \n",
       "33  {'max_depth': 11, 'max_features': 'sqrt', 'n_e...         0.565127   \n",
       "25  {'max_depth': 10, 'max_features': 'sqrt', 'n_e...         0.564737   \n",
       "6   {'max_depth': 7, 'max_features': 'sqrt', 'n_es...         0.564377   \n",
       "2   {'max_depth': 7, 'max_features': 'sqrt', 'n_es...         0.564249   \n",
       "5   {'max_depth': 7, 'max_features': 'sqrt', 'n_es...         0.564103   \n",
       "\n",
       "    std_test_score  \n",
       "17        0.050112  \n",
       "0         0.063041  \n",
       "26        0.058160  \n",
       "22        0.051996  \n",
       "19        0.061374  \n",
       "9         0.044902  \n",
       "8         0.052895  \n",
       "31        0.064875  \n",
       "10        0.063710  \n",
       "28        0.055017  \n",
       "29        0.059314  \n",
       "18        0.063662  \n",
       "11        0.065077  \n",
       "4         0.056706  \n",
       "13        0.049310  \n",
       "33        0.058481  \n",
       "25        0.060052  \n",
       "6         0.059684  \n",
       "2         0.057190  \n",
       "5         0.045989  "
      ]
     },
     "execution_count": 58,
     "metadata": {},
     "output_type": "execute_result"
    }
   ],
   "source": [
    "pd.read_json('cv_results/RF_results.json').loc[:, ['params', 'mean_test_score', 'std_test_score']].sort_values(by = 'mean_test_score', ascending=False).head(20)"
   ]
  },
  {
   "attachments": {},
   "cell_type": "markdown",
   "id": "7a43e4aa",
   "metadata": {},
   "source": [
    "## Best Models"
   ]
  },
  {
   "attachments": {},
   "cell_type": "markdown",
   "id": "15db7270",
   "metadata": {},
   "source": [
    "Функция, которая получает названия папки, в которой лежат json файлы с лучшими параметрами, и возвращает список соотвствующих моделей"
   ]
  },
  {
   "cell_type": "code",
   "execution_count": 2,
   "id": "20ba2cf9",
   "metadata": {},
   "outputs": [],
   "source": [
    "def get_models_by_params_json(path:str):\n",
    "    params = []\n",
    "    names = ['RF', 'LogReg', 'Tree']\n",
    "    for name in names:\n",
    "        with open(f'cv_results/{name}_best_params.json') as project_file:    \n",
    "            data = json.load(project_file)  \n",
    "            params.append(pd.json_normalize(data).data[0][0])\n",
    "    estimators = [RandomForestClassifier, LogisticRegression, DecisionTreeClassifier]\n",
    "    estimators = dict(zip(['RF','LogReg', 'Tree'], estimators))\n",
    "    params = dict(zip(['RF','LogReg', 'Tree'], params))\n",
    "    estimators = list(map(lambda x: estimators[x](**params[x]),estimators.keys()))\n",
    "    return estimators"
   ]
  },
  {
   "cell_type": "code",
   "execution_count": 103,
   "id": "1dcff4f6",
   "metadata": {},
   "outputs": [
    {
     "data": {
      "text/plain": [
       "[RandomForestClassifier(max_depth=9, n_estimators=175),\n",
       " LogisticRegression(C=0.25),\n",
       " DecisionTreeClassifier(max_depth=13, max_features=0.7)]"
      ]
     },
     "execution_count": 103,
     "metadata": {},
     "output_type": "execute_result"
    }
   ],
   "source": [
    "estimators = get_models_by_params_json('cv_results')\n",
    "estimators\n",
    "\n"
   ]
  },
  {
   "cell_type": "code",
   "execution_count": 86,
   "id": "e361b6d8",
   "metadata": {},
   "outputs": [],
   "source": [
    "names = ['RF', 'LogReg', 'Tree']"
   ]
  },
  {
   "attachments": {},
   "cell_type": "markdown",
   "id": "239c5f4b",
   "metadata": {},
   "source": [
    "## Best Models Perfomance on Holdout"
   ]
  },
  {
   "attachments": {},
   "cell_type": "markdown",
   "id": "8d370e7b",
   "metadata": {},
   "source": [
    "Функция, которая получает список моделей и возвращает датафрейм с результатами на отложенной выборке"
   ]
  },
  {
   "cell_type": "code",
   "execution_count": 41,
   "id": "f02bdf5d",
   "metadata": {},
   "outputs": [],
   "source": [
    "def models_perfomance(estimators, oversampled = False):\n",
    "    results = {}\n",
    "    for i in range(len(estimators)):\n",
    "        if not oversampled:\n",
    "            estimators[i].fit(X_train, y_train)\n",
    "        else:\n",
    "            estimators[i].fit(oversampled_X, oversampled_y)\n",
    "        pred = estimators[i].predict(X_holdout)\n",
    "        print(f'{names[i]} f1_score = {f1_score(pred, y_holdout, average=\"macro\")}\\n{classification_report(pred, y_holdout)}\\n{\"-\"*30}')\n",
    "        results[names[i]] = f1_score(pred, y_holdout, average=\"macro\")\n",
    "    return pd.DataFrame(results, index = ['f1_macro'])"
   ]
  },
  {
   "cell_type": "code",
   "execution_count": 44,
   "id": "bb0cf1dc",
   "metadata": {},
   "outputs": [
    {
     "name": "stdout",
     "output_type": "stream",
     "text": [
      "RF f1_score = 0.5555652680652681\n",
      "              precision    recall  f1-score   support\n",
      "\n",
      "           0       0.33      1.00      0.50         1\n",
      "           1       0.00      0.00      0.00         0\n",
      "           3       0.57      0.80      0.67         5\n",
      "           4       0.33      1.00      0.50         1\n",
      "           5       0.60      0.82      0.69        11\n",
      "           6       0.80      0.80      0.80         5\n",
      "           7       0.42      0.67      0.51        15\n",
      "           8       1.00      0.63      0.77        54\n",
      "\n",
      "    accuracy                           0.68        92\n",
      "   macro avg       0.51      0.71      0.56        92\n",
      "weighted avg       0.81      0.68      0.71        92\n",
      "\n",
      "------------------------------\n",
      "LogReg f1_score = 0.5363571187584345\n",
      "              precision    recall  f1-score   support\n",
      "\n",
      "           0       0.33      0.33      0.33         3\n",
      "           1       0.00      0.00      0.00         0\n",
      "           3       0.57      0.67      0.62         6\n",
      "           4       0.33      0.50      0.40         2\n",
      "           5       0.67      0.59      0.62        17\n",
      "           6       1.00      0.71      0.83         7\n",
      "           7       0.50      0.80      0.62        15\n",
      "           8       0.97      0.79      0.87        42\n",
      "\n",
      "    accuracy                           0.72        92\n",
      "   macro avg       0.55      0.55      0.54        92\n",
      "weighted avg       0.78      0.72      0.74        92\n",
      "\n",
      "------------------------------\n",
      "Tree f1_score = 0.5046992481203008\n",
      "              precision    recall  f1-score   support\n",
      "\n",
      "           0       0.33      0.33      0.33         3\n",
      "           1       0.00      0.00      0.00         0\n",
      "           3       0.57      0.44      0.50         9\n",
      "           4       0.33      1.00      0.50         1\n",
      "           5       0.60      0.69      0.64        13\n",
      "           6       1.00      0.50      0.67        10\n",
      "           7       0.42      0.71      0.53        14\n",
      "           8       0.97      0.79      0.87        42\n",
      "\n",
      "    accuracy                           0.68        92\n",
      "   macro avg       0.53      0.56      0.50        92\n",
      "weighted avg       0.77      0.68      0.71        92\n",
      "\n",
      "------------------------------\n"
     ]
    }
   ],
   "source": [
    "holdout_results = models_perfomance(estimators)\n"
   ]
  },
  {
   "cell_type": "code",
   "execution_count": 45,
   "id": "14942bb4",
   "metadata": {},
   "outputs": [
    {
     "data": {
      "text/html": [
       "<div>\n",
       "<style scoped>\n",
       "    .dataframe tbody tr th:only-of-type {\n",
       "        vertical-align: middle;\n",
       "    }\n",
       "\n",
       "    .dataframe tbody tr th {\n",
       "        vertical-align: top;\n",
       "    }\n",
       "\n",
       "    .dataframe thead th {\n",
       "        text-align: right;\n",
       "    }\n",
       "</style>\n",
       "<table border=\"1\" class=\"dataframe\">\n",
       "  <thead>\n",
       "    <tr style=\"text-align: right;\">\n",
       "      <th></th>\n",
       "      <th>RF</th>\n",
       "      <th>LogReg</th>\n",
       "      <th>Tree</th>\n",
       "    </tr>\n",
       "  </thead>\n",
       "  <tbody>\n",
       "    <tr>\n",
       "      <th>f1_macro</th>\n",
       "      <td>0.555565</td>\n",
       "      <td>0.536357</td>\n",
       "      <td>0.504699</td>\n",
       "    </tr>\n",
       "  </tbody>\n",
       "</table>\n",
       "</div>"
      ],
      "text/plain": [
       "                RF    LogReg      Tree\n",
       "f1_macro  0.555565  0.536357  0.504699"
      ]
     },
     "execution_count": 45,
     "metadata": {},
     "output_type": "execute_result"
    }
   ],
   "source": [
    "holdout_results"
   ]
  },
  {
   "attachments": {},
   "cell_type": "markdown",
   "id": "71fe7138",
   "metadata": {},
   "source": [
    "### CatBoost"
   ]
  },
  {
   "attachments": {},
   "cell_type": "markdown",
   "id": "49903625",
   "metadata": {},
   "source": [
    "CatBoost я обучал отдельно, так как на это требовалось много времени, ячейка с сами гридсерчем утеряна, сохранил JSON файс с лучшими параметрами"
   ]
  },
  {
   "cell_type": "code",
   "execution_count": 46,
   "id": "2ed6609a",
   "metadata": {},
   "outputs": [],
   "source": [
    "best_cb = CatBoostClassifier(**pd.read_json('cv_results/CatBoost_best_params.json').to_dict(orient='records')[0])"
   ]
  },
  {
   "cell_type": "code",
   "execution_count": null,
   "id": "abd85031",
   "metadata": {},
   "outputs": [],
   "source": [
    "best_cb.fit(X_train, y_train)\n",
    "pred = best_cb.predict(X_holdout)\n",
    "print(f'CatBoost f1_score = {f1_score(pred, y_holdout, average=\"macro\")}\\n{classification_report(pred, y_holdout)}\\n{\"-\"*30}')\n",
    "holdout_results['CatBoost'] = f1_score(pred, y_holdout, average=\"macro\")"
   ]
  },
  {
   "cell_type": "code",
   "execution_count": 48,
   "id": "2089873c",
   "metadata": {},
   "outputs": [],
   "source": [
    "holdout_results_before_oversampling = holdout_results"
   ]
  },
  {
   "cell_type": "code",
   "execution_count": 50,
   "id": "ac96b8fa",
   "metadata": {},
   "outputs": [
    {
     "data": {
      "text/html": [
       "<div>\n",
       "<style scoped>\n",
       "    .dataframe tbody tr th:only-of-type {\n",
       "        vertical-align: middle;\n",
       "    }\n",
       "\n",
       "    .dataframe tbody tr th {\n",
       "        vertical-align: top;\n",
       "    }\n",
       "\n",
       "    .dataframe thead th {\n",
       "        text-align: right;\n",
       "    }\n",
       "</style>\n",
       "<table border=\"1\" class=\"dataframe\">\n",
       "  <thead>\n",
       "    <tr style=\"text-align: right;\">\n",
       "      <th></th>\n",
       "      <th>RF</th>\n",
       "      <th>LogReg</th>\n",
       "      <th>Tree</th>\n",
       "      <th>CatBoost</th>\n",
       "    </tr>\n",
       "  </thead>\n",
       "  <tbody>\n",
       "    <tr>\n",
       "      <th>f1_macro</th>\n",
       "      <td>0.555565</td>\n",
       "      <td>0.536357</td>\n",
       "      <td>0.504699</td>\n",
       "      <td>0.552551</td>\n",
       "    </tr>\n",
       "  </tbody>\n",
       "</table>\n",
       "</div>"
      ],
      "text/plain": [
       "                RF    LogReg      Tree  CatBoost\n",
       "f1_macro  0.555565  0.536357  0.504699  0.552551"
      ]
     },
     "execution_count": 50,
     "metadata": {},
     "output_type": "execute_result"
    }
   ],
   "source": [
    "holdout_results_before_oversampling\n"
   ]
  },
  {
   "cell_type": "code",
   "execution_count": 51,
   "id": "070fa5d5",
   "metadata": {},
   "outputs": [],
   "source": [
    "holdout_results_before_oversampling.to_json('holdout_results/before_oversampling.json')"
   ]
  },
  {
   "attachments": {},
   "cell_type": "markdown",
   "id": "3fbcd52e",
   "metadata": {},
   "source": [
    "Здесь мы видим явное преимущество случайного леса."
   ]
  },
  {
   "attachments": {},
   "cell_type": "markdown",
   "id": "6c19a8f5",
   "metadata": {},
   "source": [
    "## Validation Curves\n"
   ]
  },
  {
   "cell_type": "code",
   "execution_count": 382,
   "id": "24b3f751",
   "metadata": {},
   "outputs": [
    {
     "data": {
      "image/png": "[encoded data removed]",
      "text/plain": [
       "<Figure size 800x550 with 1 Axes>"
      ]
     },
     "metadata": {},
     "output_type": "display_data"
    },
    {
     "data": {
      "text/plain": [
       "<Axes: title={'center': 'Validation Curve for DecisionTreeClassifier'}, xlabel='max_depth', ylabel='score'>"
      ]
     },
     "execution_count": 382,
     "metadata": {},
     "output_type": "execute_result"
    }
   ],
   "source": [
    "viz = ValidationCurve(\n",
    "    DecisionTreeClassifier(), param_name=\"max_depth\",\n",
    "    param_range=np.arange(1, 30), cv=cv, scoring=f1_weighted\n",
    ")\n",
    "viz.fit(X_train, y_train)\n",
    "viz.show()"
   ]
  },
  {
   "cell_type": "code",
   "execution_count": 379,
   "id": "b174eb98",
   "metadata": {},
   "outputs": [
    {
     "data": {
      "image/png": "[encoded data removed]",
      "text/plain": [
       "<Figure size 800x550 with 1 Axes>"
      ]
     },
     "metadata": {},
     "output_type": "display_data"
    },
    {
     "data": {
      "text/plain": [
       "<Axes: title={'center': 'Validation Curve for LogisticRegression'}, xlabel='C', ylabel='score'>"
      ]
     },
     "execution_count": 379,
     "metadata": {},
     "output_type": "execute_result"
    }
   ],
   "source": [
    "viz = ValidationCurve(\n",
    "    LogisticRegression(penalty='l2'), param_name=\"C\",\n",
    "    param_range=np.linspace(0, 1, 8), cv=cv, scoring=f1_weighted\n",
    ")\n",
    "viz.fit(X_train, y_train)\n",
    "viz.show()"
   ]
  },
  {
   "attachments": {},
   "cell_type": "markdown",
   "id": "be57a2a1",
   "metadata": {},
   "source": [
    "## Oversampling"
   ]
  },
  {
   "attachments": {},
   "cell_type": "markdown",
   "id": "6c920cbd",
   "metadata": {},
   "source": [
    "В выборке присутствует сильный дисбаланс классов, поэтому я решил использовать оверсэмплинг для того, чтобы сбалансировать выборку"
   ]
  },
  {
   "attachments": {},
   "cell_type": "markdown",
   "id": "5bc26705",
   "metadata": {},
   "source": [
    "Оверсэмплиться будет только обучающая выборка, баланс классов в холдауте останется прежним.\n"
   ]
  },
  {
   "cell_type": "code",
   "execution_count": 27,
   "id": "1e0d5802",
   "metadata": {},
   "outputs": [],
   "source": [
    "oversampler = RandomOverSampler()\n",
    "oversampled_X, oversampled_y = oversampler.fit_resample(X_train, y_train)"
   ]
  },
  {
   "cell_type": "code",
   "execution_count": 58,
   "id": "a95bd49d",
   "metadata": {},
   "outputs": [],
   "source": [
    "oversampled_X.to_csv('clean_data/oversampled_X.csv', index = False)\n",
    "oversampled_y.to_csv('clean_data/oversampled_y.csv', index = False)"
   ]
  },
  {
   "cell_type": "code",
   "execution_count": 17,
   "id": "390170c6",
   "metadata": {},
   "outputs": [],
   "source": [
    "oversampled_X = pd.read_csv('clean_data/oversampled_X.csv')\n",
    "oversampled_y = pd.read_csv('clean_data/oversampled_y.csv')"
   ]
  },
  {
   "attachments": {},
   "cell_type": "markdown",
   "id": "5580051c",
   "metadata": {},
   "source": [
    "Баланс классов до оверсэмплинга:"
   ]
  },
  {
   "cell_type": "code",
   "execution_count": 92,
   "id": "8ffe7e4e",
   "metadata": {},
   "outputs": [
    {
     "data": {
      "text/plain": [
       "0\n",
       "8    177\n",
       "7     62\n",
       "5     47\n",
       "3     29\n",
       "6     25\n",
       "0     11\n",
       "4     11\n",
       "1      2\n",
       "2      2\n",
       "dtype: int64"
      ]
     },
     "execution_count": 92,
     "metadata": {},
     "output_type": "execute_result"
    }
   ],
   "source": [
    "y_train.value_counts()"
   ]
  },
  {
   "attachments": {},
   "cell_type": "markdown",
   "id": "35fb1ebd",
   "metadata": {},
   "source": [
    "После оверсэмплинга:"
   ]
  },
  {
   "cell_type": "code",
   "execution_count": 96,
   "id": "388e4141",
   "metadata": {},
   "outputs": [
    {
     "data": {
      "text/plain": [
       "0\n",
       "0    177\n",
       "1    177\n",
       "2    177\n",
       "3    177\n",
       "4    177\n",
       "5    177\n",
       "6    177\n",
       "7    177\n",
       "8    177\n",
       "dtype: int64"
      ]
     },
     "execution_count": 96,
     "metadata": {},
     "output_type": "execute_result"
    }
   ],
   "source": [
    "oversampled_y.value_counts()"
   ]
  },
  {
   "cell_type": "code",
   "execution_count": 123,
   "id": "cbf6fdf2",
   "metadata": {},
   "outputs": [],
   "source": [
    "n_samples = oversampled_X.shape[0]"
   ]
  },
  {
   "cell_type": "code",
   "execution_count": 124,
   "id": "5e396219",
   "metadata": {},
   "outputs": [],
   "source": [
    "RF_grid = { \n",
    "    'n_estimators': [150, 175, 200, 225, 250, 275, 300],\n",
    "    'max_features': ['sqrt'],\n",
    "    'max_depth' : [6, 7,8, 9, 10, 11, 12, 13, 14, 15, 16],\n",
    "}\n",
    "CatBoost_grid = {'depth'         : [4,5,6,7,8, 10, 11, 12],\n",
    "                 'learning_rate' : [0.01,0.02,0.03,0.04],\n",
    "                  'iterations'    : [10, 20,30,40,50,60,70]\n",
    "                 }\n",
    "\n",
    "logreg_grid = {'penalty' : ['l2', 'l1'],\n",
    "               'C' : [0.25, 0.3, 0.4, 0.5, 0.6, 0.7,  0.8, 1]\n",
    "}\n",
    "\n",
    "\n",
    "DecisionTree_grid ={\n",
    "                    'max_depth': [6,7,8,9,10,11,12,13],\n",
    "                    'max_features': ['sqrt','log2', 0.3,0.5,0.7, n_features//2, n_features//3],\n",
    "                    'min_samples_split': [2,0.3,0.5, n_samples//2, n_samples//3, n_samples//5],\n",
    "                    'min_samples_leaf':[1, 0.3,0.5, n_samples//2, n_samples//3, n_samples//5]}"
   ]
  },
  {
   "cell_type": "code",
   "execution_count": 125,
   "id": "6a19652e",
   "metadata": {},
   "outputs": [],
   "source": [
    "estimators = {RandomForestClassifier() : [RF_grid, 'RF'], \n",
    "#              CatBoostClassifier() : CatBoost_grid, \n",
    "              LogisticRegression() : [logreg_grid, 'LogReg'],\n",
    "            DecisionTreeClassifier() : [DecisionTree_grid, 'Tree']}\n",
    "names = ['RF', 'LogReg', 'Tree']"
   ]
  },
  {
   "cell_type": "code",
   "execution_count": 126,
   "id": "30c6fdc4",
   "metadata": {},
   "outputs": [
    {
     "name": "stdout",
     "output_type": "stream",
     "text": [
      "RF Fitted\n",
      "Best Score:0.9663684228026392\n",
      "File cv_results/RF_results.json written!\n",
      "File cv_results/RF_best_params.json written\n",
      "------------------------------\n"
     ]
    },
    {
     "name": "stderr",
     "output_type": "stream",
     "text": [
      "d:\\anaconda\\lib\\site-packages\\sklearn\\model_selection\\_validation.py:378: FitFailedWarning: \n",
      "32 fits failed out of a total of 64.\n",
      "The score on these train-test partitions for these parameters will be set to nan.\n",
      "If these failures are not expected, you can try to debug them by setting error_score='raise'.\n",
      "\n",
      "Below are more details about the failures:\n",
      "--------------------------------------------------------------------------------\n",
      "32 fits failed with the following error:\n",
      "Traceback (most recent call last):\n",
      "  File \"d:\\anaconda\\lib\\site-packages\\sklearn\\model_selection\\_validation.py\", line 686, in _fit_and_score\n",
      "    estimator.fit(X_train, y_train, **fit_params)\n",
      "  File \"d:\\anaconda\\lib\\site-packages\\sklearn\\linear_model\\_logistic.py\", line 1162, in fit\n",
      "    solver = _check_solver(self.solver, self.penalty, self.dual)\n",
      "  File \"d:\\anaconda\\lib\\site-packages\\sklearn\\linear_model\\_logistic.py\", line 54, in _check_solver\n",
      "    raise ValueError(\n",
      "ValueError: Solver lbfgs supports only 'l2' or 'none' penalties, got l1 penalty.\n",
      "\n",
      "  warnings.warn(some_fits_failed_message, FitFailedWarning)\n"
     ]
    },
    {
     "name": "stdout",
     "output_type": "stream",
     "text": [
      "LogReg Fitted\n",
      "Best Score:0.9564374022883184\n",
      "File cv_results/LogReg_results.json written!\n",
      "File cv_results/LogReg_best_params.json written\n",
      "------------------------------\n",
      "Tree Fitted\n",
      "Best Score:0.9512974441965443\n",
      "File cv_results/Tree_results.json written!\n",
      "File cv_results/Tree_best_params.json written\n",
      "------------------------------\n"
     ]
    }
   ],
   "source": [
    "for estimator, grid in list(estimators.items()):\n",
    "    gridsearch = GridSearchCV(estimator=estimator, param_grid=grid[:-1], scoring='f1_macro', cv=cv) ## создание объекта гридсерча, передача сеток параметров, кросс-валидации на 4 фолдах\n",
    "    gridsearch.fit(oversampled_X, oversampled_y)\n",
    "    print(f'{grid[-1]} Fitted\\nBest Score:{gridsearch.best_score_}')\n",
    "\n",
    "    ### запись результатов кросс-валидации и параметров лучших моделей в JSON файлы\n",
    "    pd.DataFrame(gridsearch.cv_results_).to_json(f'oversampled_cv_results/{grid[-1]}_results.json')\n",
    "    print(f'File cv_results/{grid[-1]}_results.json written!')\n",
    "    pd.DataFrame(gridsearch.best_params_, index = [1]).to_json(f'oversampled_cv_results/{grid[-1]}_best_params.json', index=False, orient='table')\n",
    "    print(f'File cv_results/{grid[-1]}_best_params.json written')\n",
    "    print('-'*30)"
   ]
  },
  {
   "attachments": {},
   "cell_type": "markdown",
   "id": "f3167a5a",
   "metadata": {},
   "source": [
    "## Models Fitted on Oversampled Data Perfomance on Holdout"
   ]
  },
  {
   "cell_type": "code",
   "execution_count": 12,
   "id": "f59c5408",
   "metadata": {},
   "outputs": [
    {
     "data": {
      "text/plain": [
       "[RandomForestClassifier(max_depth=9, n_estimators=175),\n",
       " LogisticRegression(C=0.25),\n",
       " DecisionTreeClassifier(max_depth=13, max_features=0.7)]"
      ]
     },
     "execution_count": 12,
     "metadata": {},
     "output_type": "execute_result"
    }
   ],
   "source": [
    "oversampled_estimators = get_models_by_params_json('oversampled_cv_results')\n",
    "oversampled_estimators"
   ]
  },
  {
   "cell_type": "code",
   "execution_count": 17,
   "id": "630dab32",
   "metadata": {},
   "outputs": [
    {
     "name": "stdout",
     "output_type": "stream",
     "text": [
      "RF f1_score = 0.5523269575748155\n",
      "              precision    recall  f1-score   support\n",
      "\n",
      "           0       0.33      0.33      0.33         3\n",
      "           1       0.00      0.00      0.00         0\n",
      "           3       0.57      0.57      0.57         7\n",
      "           4       0.33      0.50      0.40         2\n",
      "           5       0.67      0.83      0.74        12\n",
      "           6       1.00      0.71      0.83         7\n",
      "           7       0.62      0.79      0.70        19\n",
      "           8       0.94      0.76      0.84        42\n",
      "\n",
      "    accuracy                           0.74        92\n",
      "   macro avg       0.56      0.56      0.55        92\n",
      "weighted avg       0.78      0.74      0.75        92\n",
      "\n",
      "------------------------------\n",
      "LogReg f1_score = 0.57806062327715\n",
      "              precision    recall  f1-score   support\n",
      "\n",
      "           0       0.67      0.50      0.57         4\n",
      "           1       0.00      0.00      0.00         0\n",
      "           3       0.57      0.50      0.53         8\n",
      "           4       0.33      0.50      0.40         2\n",
      "           5       0.73      0.69      0.71        16\n",
      "           6       1.00      0.71      0.83         7\n",
      "           7       0.58      0.88      0.70        16\n",
      "           8       0.94      0.82      0.88        39\n",
      "\n",
      "    accuracy                           0.75        92\n",
      "   macro avg       0.60      0.57      0.58        92\n",
      "weighted avg       0.79      0.75      0.76        92\n",
      "\n",
      "------------------------------\n",
      "Tree f1_score = 0.49374503490357147\n",
      "              precision    recall  f1-score   support\n",
      "\n",
      "           0       0.33      0.33      0.33         3\n",
      "           1       0.00      0.00      0.00         0\n",
      "           3       0.57      0.57      0.57         7\n",
      "           4       0.33      0.25      0.29         4\n",
      "           5       0.60      0.69      0.64        13\n",
      "           6       1.00      0.62      0.77         8\n",
      "           7       0.46      0.65      0.54        17\n",
      "           8       0.88      0.75      0.81        40\n",
      "\n",
      "    accuracy                           0.66        92\n",
      "   macro avg       0.52      0.48      0.49        92\n",
      "weighted avg       0.71      0.66      0.68        92\n",
      "\n",
      "------------------------------\n"
     ]
    }
   ],
   "source": [
    "oversampled_holdout_results = models_perfomance(oversampled_estimators, oversampled=True)"
   ]
  },
  {
   "cell_type": "code",
   "execution_count": 18,
   "id": "14ef6a05",
   "metadata": {},
   "outputs": [
    {
     "data": {
      "text/html": [
       "<div>\n",
       "<style scoped>\n",
       "    .dataframe tbody tr th:only-of-type {\n",
       "        vertical-align: middle;\n",
       "    }\n",
       "\n",
       "    .dataframe tbody tr th {\n",
       "        vertical-align: top;\n",
       "    }\n",
       "\n",
       "    .dataframe thead th {\n",
       "        text-align: right;\n",
       "    }\n",
       "</style>\n",
       "<table border=\"1\" class=\"dataframe\">\n",
       "  <thead>\n",
       "    <tr style=\"text-align: right;\">\n",
       "      <th></th>\n",
       "      <th>RF</th>\n",
       "      <th>LogReg</th>\n",
       "      <th>Tree</th>\n",
       "    </tr>\n",
       "  </thead>\n",
       "  <tbody>\n",
       "    <tr>\n",
       "      <th>f1_macro</th>\n",
       "      <td>0.552327</td>\n",
       "      <td>0.578061</td>\n",
       "      <td>0.493745</td>\n",
       "    </tr>\n",
       "  </tbody>\n",
       "</table>\n",
       "</div>"
      ],
      "text/plain": [
       "                RF    LogReg      Tree\n",
       "f1_macro  0.552327  0.578061  0.493745"
      ]
     },
     "execution_count": 18,
     "metadata": {},
     "output_type": "execute_result"
    }
   ],
   "source": [
    "oversampled_holdout_results"
   ]
  },
  {
   "attachments": {},
   "cell_type": "markdown",
   "id": "dc145203",
   "metadata": {},
   "source": [
    "После оверсэмплинга у логистической модели и дерева решений увеличился f1_macro, в то время как у случайного леса не изменился. Могу предположить, что это связано с тем, что при построении каждого дерева в случайном лесе производится случайная выборка с повторениями, что само по себе может бороться с дисбалансом классов."
   ]
  },
  {
   "attachments": {},
   "cell_type": "markdown",
   "id": "1885e94a",
   "metadata": {},
   "source": [
    "### Catboost After Oversampling on Holdout"
   ]
  },
  {
   "cell_type": "code",
   "execution_count": 134,
   "id": "4475672e",
   "metadata": {},
   "outputs": [],
   "source": [
    "catboost = CatBoostClassifier(loss_function='MultiClass')\n",
    "\n",
    "grid = {'learning_rate': [0.03, 0.1],\n",
    "        'depth': [4, 6, 10]}\n",
    "PARAMS = {\n",
    "\"iterations\": [50, 60, 70, 80, 90, 100],\n",
    "\"learning_rate\": [0.02, 0.03, 0.05, 0.1, 0.15],\n",
    "\"max_depth\": np.arange(4, 10)}\n"
   ]
  },
  {
   "attachments": {},
   "cell_type": "markdown",
   "id": "71be8589",
   "metadata": {},
   "source": [
    "Мультиклассом в кэтбусте называется обычная кросс-энтропия"
   ]
  },
  {
   "attachments": {
    "image.png": {
     "image/png": "[encoded data removed]"
    }
   },
   "cell_type": "markdown",
   "id": "82efb1fd",
   "metadata": {},
   "source": [
    "![image.png](attachment:image.png)"
   ]
  },
  {
   "cell_type": "code",
   "execution_count": null,
   "id": "7424d07f",
   "metadata": {},
   "outputs": [],
   "source": [
    "catboost.grid_search(PARAMS, oversampled_X, oversampled_y,plot=True, refit=True, cv=cv)"
   ]
  },
  {
   "cell_type": "code",
   "execution_count": 104,
   "id": "1c1dc8a4",
   "metadata": {},
   "outputs": [
    {
     "name": "stdout",
     "output_type": "stream",
     "text": [
      "CatBoost f1_score = 0.5462116502006976\n",
      "              precision    recall  f1-score   support\n",
      "\n",
      "           0       0.33      0.33      0.33         3\n",
      "           1       0.00      0.00      0.00         0\n",
      "           3       0.57      0.67      0.62         6\n",
      "           4       0.33      1.00      0.50         1\n",
      "           5       0.60      0.64      0.62        14\n",
      "           6       1.00      0.71      0.83         7\n",
      "           7       0.58      0.74      0.65        19\n",
      "           8       0.91      0.74      0.82        42\n",
      "\n",
      "    accuracy                           0.71        92\n",
      "   macro avg       0.54      0.60      0.55        92\n",
      "weighted avg       0.76      0.71      0.72        92\n",
      "\n",
      "------------------------------\n"
     ]
    }
   ],
   "source": [
    "pred = catboost.predict(X_holdout)\n",
    "print(f'CatBoost f1_score = {f1_score(pred, y_holdout, average=\"macro\")}\\n{classification_report(pred, y_holdout)}\\n{\"-\"*30}')"
   ]
  },
  {
   "cell_type": "code",
   "execution_count": 140,
   "id": "7f6b5eab",
   "metadata": {},
   "outputs": [],
   "source": [
    "pd.DataFrame(catboost.get_params(), index = [1]).to_json(f'oversampled_cv_results/CatBoost_results.json')"
   ]
  },
  {
   "cell_type": "code",
   "execution_count": null,
   "id": "e42535a4",
   "metadata": {},
   "outputs": [],
   "source": [
    "catboost = CatBoostClassifier(**pd.read_json('oversampled_cv_results/CatBoost_results.json', orient='records')[0])"
   ]
  },
  {
   "cell_type": "code",
   "execution_count": 21,
   "id": "d25f2bd4",
   "metadata": {},
   "outputs": [
    {
     "data": {
      "text/html": [
       "<div>\n",
       "<style scoped>\n",
       "    .dataframe tbody tr th:only-of-type {\n",
       "        vertical-align: middle;\n",
       "    }\n",
       "\n",
       "    .dataframe tbody tr th {\n",
       "        vertical-align: top;\n",
       "    }\n",
       "\n",
       "    .dataframe thead th {\n",
       "        text-align: right;\n",
       "    }\n",
       "</style>\n",
       "<table border=\"1\" class=\"dataframe\">\n",
       "  <thead>\n",
       "    <tr style=\"text-align: right;\">\n",
       "      <th></th>\n",
       "      <th>RF</th>\n",
       "      <th>LogReg</th>\n",
       "      <th>Tree</th>\n",
       "      <th>CatBoost</th>\n",
       "    </tr>\n",
       "  </thead>\n",
       "  <tbody>\n",
       "    <tr>\n",
       "      <th>f1_macro</th>\n",
       "      <td>0.552327</td>\n",
       "      <td>0.578061</td>\n",
       "      <td>0.493745</td>\n",
       "      <td>0.55</td>\n",
       "    </tr>\n",
       "  </tbody>\n",
       "</table>\n",
       "</div>"
      ],
      "text/plain": [
       "                RF    LogReg      Tree  CatBoost\n",
       "f1_macro  0.552327  0.578061  0.493745      0.55"
      ]
     },
     "execution_count": 21,
     "metadata": {},
     "output_type": "execute_result"
    }
   ],
   "source": [
    "oversampled_holdout_results"
   ]
  },
  {
   "attachments": {},
   "cell_type": "markdown",
   "id": "d104b399",
   "metadata": {},
   "source": [
    "## Blending Ensemble"
   ]
  },
  {
   "attachments": {},
   "cell_type": "markdown",
   "id": "7a5f3081",
   "metadata": {},
   "source": [
    "Далее я решил построить еще одну модель, а именно блендинговый ансамбль. Его идея в том, что мы берем предсказания наших базовых моделей, которыми в моем случаи выступали логистическая регрессия, случайный лес, дерево решений и градиентный бустинг(CatBoost), в качестве признаков для \"блендера\". По итогу модель получает на вход 4-мерные векторы. Блендером служит модель логистической регрессии. Важно отметить, что по итогу получается 3 выборки, т.е. изначальная трейн выборка бьется на две и мы получаем следующее:\n",
    "- X_train, y_train - выборка, на которой учатся базовые модели.\n",
    "- X_test, y_test - выборка, на которой базовые модели делают предсказания, которые далее идут в блендер в качестве признаков\n",
    "- X_holdout, y_holdout - изначальные отложенные выборки\n",
    "\n",
    "Также важно, что train и test выборки подаются после оверсэмплинга, holdout выборка все так же остается не тронутой."
   ]
  },
  {
   "cell_type": "code",
   "execution_count": 22,
   "id": "05fb2e64",
   "metadata": {},
   "outputs": [],
   "source": [
    "models_for_ensemble = get_models_by_params_json('oversampled_cv_results')"
   ]
  },
  {
   "cell_type": "code",
   "execution_count": 23,
   "id": "91e9e1b5",
   "metadata": {},
   "outputs": [],
   "source": [
    "catboost = CatBoostClassifier(**pd.read_json('oversampled_cv_results/CatBoost_results.json').to_dict(orient='records')[0])"
   ]
  },
  {
   "cell_type": "code",
   "execution_count": 24,
   "id": "bd5a8f2e",
   "metadata": {},
   "outputs": [],
   "source": [
    "models_for_ensemble.append(catboost)"
   ]
  },
  {
   "cell_type": "code",
   "execution_count": 25,
   "id": "d5dae6fb",
   "metadata": {},
   "outputs": [],
   "source": [
    "from classifier import ensemble"
   ]
  },
  {
   "cell_type": "code",
   "execution_count": null,
   "id": "0a3232da",
   "metadata": {},
   "outputs": [],
   "source": [
    "my_ensemble = ensemble(models_for_ensemble)\n",
    "my_ensemble.fit(oversampled_X, oversampled_y)\n",
    "pred = my_ensemble.predict(X_holdout)\n"
   ]
  },
  {
   "cell_type": "code",
   "execution_count": 27,
   "id": "b8c5d4e0",
   "metadata": {},
   "outputs": [
    {
     "name": "stdout",
     "output_type": "stream",
     "text": [
      "              precision    recall  f1-score   support\n",
      "\n",
      "           0       0.67      0.50      0.57         4\n",
      "           1       0.00      0.00      0.00         0\n",
      "           3       0.57      0.50      0.53         8\n",
      "           4       0.33      0.50      0.40         2\n",
      "           5       0.80      0.60      0.69        20\n",
      "           6       1.00      0.50      0.67        10\n",
      "           7       0.46      0.73      0.56        15\n",
      "           8       0.79      0.82      0.81        33\n",
      "\n",
      "    accuracy                           0.67        92\n",
      "   macro avg       0.58      0.52      0.53        92\n",
      "weighted avg       0.73      0.67      0.68        92\n",
      "\n"
     ]
    }
   ],
   "source": [
    "print(classification_report(pred, y_holdout))"
   ]
  },
  {
   "cell_type": "code",
   "execution_count": 28,
   "id": "c0b21752",
   "metadata": {},
   "outputs": [],
   "source": [
    "oversampled_holdout_results['Blending Ensemble'] = f1_score(pred, y_holdout, average='macro')"
   ]
  },
  {
   "cell_type": "code",
   "execution_count": 29,
   "id": "85b80b53",
   "metadata": {},
   "outputs": [
    {
     "data": {
      "text/html": [
       "<div>\n",
       "<style scoped>\n",
       "    .dataframe tbody tr th:only-of-type {\n",
       "        vertical-align: middle;\n",
       "    }\n",
       "\n",
       "    .dataframe tbody tr th {\n",
       "        vertical-align: top;\n",
       "    }\n",
       "\n",
       "    .dataframe thead th {\n",
       "        text-align: right;\n",
       "    }\n",
       "</style>\n",
       "<table border=\"1\" class=\"dataframe\">\n",
       "  <thead>\n",
       "    <tr style=\"text-align: right;\">\n",
       "      <th></th>\n",
       "      <th>RF</th>\n",
       "      <th>LogReg</th>\n",
       "      <th>Tree</th>\n",
       "      <th>CatBoost</th>\n",
       "      <th>Blending Ensemble</th>\n",
       "    </tr>\n",
       "  </thead>\n",
       "  <tbody>\n",
       "    <tr>\n",
       "      <th>f1_macro</th>\n",
       "      <td>0.552327</td>\n",
       "      <td>0.578061</td>\n",
       "      <td>0.493745</td>\n",
       "      <td>0.55</td>\n",
       "      <td>0.528402</td>\n",
       "    </tr>\n",
       "  </tbody>\n",
       "</table>\n",
       "</div>"
      ],
      "text/plain": [
       "                RF    LogReg      Tree  CatBoost  Blending Ensemble\n",
       "f1_macro  0.552327  0.578061  0.493745      0.55           0.528402"
      ]
     },
     "execution_count": 29,
     "metadata": {},
     "output_type": "execute_result"
    }
   ],
   "source": [
    "oversampled_holdout_results"
   ]
  },
  {
   "attachments": {},
   "cell_type": "markdown",
   "id": "3ef46aea",
   "metadata": {},
   "source": [
    "## Voting Classifier"
   ]
  },
  {
   "attachments": {},
   "cell_type": "markdown",
   "id": "da1de359",
   "metadata": {},
   "source": [
    "Также я решил попробовать другой вид ансамбля, а именно Voting Classifier. Работает он по следующему принципу: каждя из моделей первой уровня делает свой предикт по отложенной выборке, после чего проходит \"голосование\", т.е. модель ансамблевая модель возвращает тот класс, который предсказало большее кол-во базовых моделей"
   ]
  },
  {
   "cell_type": "code",
   "execution_count": 30,
   "id": "fe68e72a",
   "metadata": {},
   "outputs": [],
   "source": [
    "models_for_ensemble = get_models_by_params_json('oversampled_cv_results')\n",
    "catboost = CatBoostClassifier(**pd.read_json('oversampled_cv_results/CatBoost_results.json').to_dict(orient='records')[0])\n",
    "models_for_ensemble.append(catboost)"
   ]
  },
  {
   "cell_type": "code",
   "execution_count": 31,
   "id": "d0de6fcd",
   "metadata": {},
   "outputs": [],
   "source": [
    "\n",
    "RF = models_for_ensemble[0]\n",
    "LogReg = models_for_ensemble[1]\n",
    "Tree = models_for_ensemble[2]\n",
    "CatBoost = models_for_ensemble[3]"
   ]
  },
  {
   "cell_type": "code",
   "execution_count": 32,
   "id": "4511752c",
   "metadata": {},
   "outputs": [],
   "source": [
    "voting_ensemble = VotingClassifier(estimators = [('Random Forest', RF), ('LogReg', LogReg), ('DecTree', Tree), ('CatBoost', CatBoost)], voting = 'soft')"
   ]
  },
  {
   "cell_type": "code",
   "execution_count": null,
   "id": "986cc972",
   "metadata": {},
   "outputs": [],
   "source": [
    "voting_ensemble.fit(oversampled_X, oversampled_y)\n",
    "pred = voting_ensemble.predict(X_holdout)\n"
   ]
  },
  {
   "cell_type": "code",
   "execution_count": 34,
   "id": "0cde44de",
   "metadata": {},
   "outputs": [
    {
     "name": "stdout",
     "output_type": "stream",
     "text": [
      "              precision    recall  f1-score   support\n",
      "\n",
      "           0       0.33      1.00      0.50         1\n",
      "           1       0.00      0.00      0.00         1\n",
      "           3       0.57      0.57      0.57         7\n",
      "           4       0.33      0.25      0.29         4\n",
      "           5       0.60      0.69      0.64        13\n",
      "           6       1.00      0.56      0.71         9\n",
      "           7       0.67      0.84      0.74        19\n",
      "           8       0.91      0.82      0.86        38\n",
      "\n",
      "    accuracy                           0.73        92\n",
      "   macro avg       0.55      0.59      0.54        92\n",
      "weighted avg       0.76      0.73      0.73        92\n",
      "\n"
     ]
    }
   ],
   "source": [
    "print(classification_report(pred, y_holdout))"
   ]
  },
  {
   "cell_type": "code",
   "execution_count": 35,
   "id": "9ebc11e5",
   "metadata": {},
   "outputs": [],
   "source": [
    "oversampled_holdout_results['Voting'] = f1_score(pred, y_holdout, average= 'macro')"
   ]
  },
  {
   "attachments": {},
   "cell_type": "markdown",
   "id": "98112063",
   "metadata": {},
   "source": [
    "## Результаты всех моделей"
   ]
  },
  {
   "attachments": {},
   "cell_type": "markdown",
   "id": "6d178c81",
   "metadata": {},
   "source": [
    "До оверсэмплинга"
   ]
  },
  {
   "cell_type": "code",
   "execution_count": 52,
   "id": "7d5c7454",
   "metadata": {},
   "outputs": [
    {
     "data": {
      "text/html": [
       "<div>\n",
       "<style scoped>\n",
       "    .dataframe tbody tr th:only-of-type {\n",
       "        vertical-align: middle;\n",
       "    }\n",
       "\n",
       "    .dataframe tbody tr th {\n",
       "        vertical-align: top;\n",
       "    }\n",
       "\n",
       "    .dataframe thead th {\n",
       "        text-align: right;\n",
       "    }\n",
       "</style>\n",
       "<table border=\"1\" class=\"dataframe\">\n",
       "  <thead>\n",
       "    <tr style=\"text-align: right;\">\n",
       "      <th></th>\n",
       "      <th>RF</th>\n",
       "      <th>LogReg</th>\n",
       "      <th>Tree</th>\n",
       "      <th>CatBoost</th>\n",
       "    </tr>\n",
       "  </thead>\n",
       "  <tbody>\n",
       "    <tr>\n",
       "      <th>f1_macro</th>\n",
       "      <td>0.555565</td>\n",
       "      <td>0.536357</td>\n",
       "      <td>0.504699</td>\n",
       "      <td>0.552551</td>\n",
       "    </tr>\n",
       "  </tbody>\n",
       "</table>\n",
       "</div>"
      ],
      "text/plain": [
       "                RF    LogReg      Tree  CatBoost\n",
       "f1_macro  0.555565  0.536357  0.504699  0.552551"
      ]
     },
     "execution_count": 52,
     "metadata": {},
     "output_type": "execute_result"
    }
   ],
   "source": [
    "holdout_results_before_oversampling"
   ]
  },
  {
   "attachments": {},
   "cell_type": "markdown",
   "id": "673763c2",
   "metadata": {},
   "source": [
    "После оверэмплинга"
   ]
  },
  {
   "cell_type": "code",
   "execution_count": 53,
   "id": "56dda567",
   "metadata": {},
   "outputs": [
    {
     "data": {
      "text/html": [
       "<div>\n",
       "<style scoped>\n",
       "    .dataframe tbody tr th:only-of-type {\n",
       "        vertical-align: middle;\n",
       "    }\n",
       "\n",
       "    .dataframe tbody tr th {\n",
       "        vertical-align: top;\n",
       "    }\n",
       "\n",
       "    .dataframe thead th {\n",
       "        text-align: right;\n",
       "    }\n",
       "</style>\n",
       "<table border=\"1\" class=\"dataframe\">\n",
       "  <thead>\n",
       "    <tr style=\"text-align: right;\">\n",
       "      <th></th>\n",
       "      <th>RF</th>\n",
       "      <th>LogReg</th>\n",
       "      <th>Tree</th>\n",
       "      <th>CatBoost</th>\n",
       "      <th>Blending Ensemble</th>\n",
       "      <th>Voting</th>\n",
       "    </tr>\n",
       "  </thead>\n",
       "  <tbody>\n",
       "    <tr>\n",
       "      <th>f1_macro</th>\n",
       "      <td>0.552327</td>\n",
       "      <td>0.578061</td>\n",
       "      <td>0.493745</td>\n",
       "      <td>0.55</td>\n",
       "      <td>0.528402</td>\n",
       "      <td>0.539948</td>\n",
       "    </tr>\n",
       "  </tbody>\n",
       "</table>\n",
       "</div>"
      ],
      "text/plain": [
       "                RF    LogReg      Tree  CatBoost  Blending Ensemble    Voting\n",
       "f1_macro  0.552327  0.578061  0.493745      0.55           0.528402  0.539948"
      ]
     },
     "execution_count": 53,
     "metadata": {},
     "output_type": "execute_result"
    }
   ],
   "source": [
    "oversampled_holdout_results"
   ]
  },
  {
   "attachments": {},
   "cell_type": "markdown",
   "id": "18a2742f",
   "metadata": {},
   "source": [
    "Видно, что сильно улучшился результат логистическое регрессии, но не стоит забывать, что это скор лишь на одной выборке, то есть это может быть частным случаем.\n",
    "Поэтому за основу своего классификатора возьму блендинг ансамбль, который будет более стабилен, так как он принимает во внимание ответы всех моделей."
   ]
  },
  {
   "attachments": {},
   "cell_type": "markdown",
   "id": "e9e72e13",
   "metadata": {},
   "source": [
    "## Демонстрация работы модели"
   ]
  },
  {
   "cell_type": "code",
   "execution_count": 78,
   "id": "13e03074",
   "metadata": {},
   "outputs": [],
   "source": [
    "class ensemble():\n",
    "    def __init__(self, models: list):\n",
    "        self.models = models\n",
    "        self.blender = LogisticRegression()  ## инициализация блендера \n",
    "    def fit(self, X, y):\n",
    "        meta_X = list()         \n",
    "\n",
    "        X_train, X_test, y_train, y_test = train_test_split(X, y, test_size=0.3, shuffle=True)\n",
    "        for model in self.models:\n",
    "            model.fit(X_train, y_train)\n",
    "            pred = model.predict(X_test)\n",
    "            pred = pred.reshape(len(pred), 1)\n",
    "            meta_X.append(pred)\n",
    "        meta_X = np.hstack(meta_X)\n",
    "        self.blender.fit(X_test, y_test)\n",
    "        \n",
    "    \n",
    "    def predict(self, X):\n",
    "        pred = self.blender.predict(X)\n",
    "        return pred\n",
    "\n",
    "\n",
    "class classifier():\n",
    "    def __init__(self,models):\n",
    "        self.models = models\n",
    "        self.morph = pymorphy2.MorphAnalyzer()\n",
    "        self.metki = pd.read_json('metki.json').to_dict(orient='records')[0]\n",
    "        self.ensemble = ensemble(self.models)\n",
    "        X = pd.read_csv('clean_data/oversampled_X.csv')\n",
    "        y = pd.read_csv('clean_data/oversampled_y.csv')\n",
    "        self.ensemble.fit(X, y)\n",
    "\n",
    "    def predict(self, x:str):\n",
    "        list_ = x.split()\n",
    "        pred_dict = {}\n",
    "\n",
    "        for word in list_:\n",
    "            if word.isdigit() or word.isascii(): ## присваивает класс модели, если только цифры или только буквы английского алфавита\n",
    "                pred_dict[word] = self.metki[4]\n",
    "            \n",
    "            elif re.search(r'\\dx\\d', word) or re.search(r'\\dx\\dx\\d', word) or re.search(r'\\d*\\d', word): # регулярка на проверку размера\n",
    "                pred_dict[word] = self.metki[6]\n",
    "\n",
    "\n",
    "            else:\n",
    "                x = self.morph.parse(word.lower())[0].normalized.word\n",
    "                if isinstance(navec.get(x), np.ndarray):\n",
    "                    x = navec.get(x)\n",
    "                    pred = self.ensemble.predict(x.reshape(1, -1))\n",
    "                    pred_dict[word] = self.metki[pred[0]]\n",
    "                else:\n",
    "                    pred_dict[word] = 'unik'\n",
    "        return pred_dict\n",
    "        "
   ]
  },
  {
   "cell_type": "code",
   "execution_count": 79,
   "id": "6db85a81",
   "metadata": {},
   "outputs": [],
   "source": [
    "my_clf = classifier(models_for_ensemble)\n",
    "data = pd.read_json('data/9_parsed.json')\n",
    "data = data.Title"
   ]
  },
  {
   "cell_type": "code",
   "execution_count": 80,
   "id": "7a990140",
   "metadata": {},
   "outputs": [
    {
     "name": "stdout",
     "output_type": "stream",
     "text": [
      "{'Автомобильные': 'наз', 'коврики': 'наз', 'в': 'раз', 'салон.': 'unik'}\n",
      "{'Автомобильный': 'наз', 'держатель': 'наз', 'мобильного': 'тов', 'телефона': 'тов', 'Zipower': 'мод', 'PM6616': 'мод'}\n",
      "{'Автомобильный': 'наз', 'держатель': 'наз', 'Wiiix': 'мод', 'универсальный': 'тип', 'HT-S3': 'мод', 'черный': 'тип'}\n",
      "{'Щетка': 'тип', 'стеклоочистителя': 'тип', 'бескаркасная': 'unik', 'AWM': 'мод', 'B': 'мод', '22': 'мод', 'R': 'мод'}\n",
      "{'Органайзер': 'тип', 'автомобильный': 'наз', 'в': 'раз', 'багажник': 'тов', 'складной': 'тип', 'STELS': 'мод', '54395': 'мод'}\n",
      "{'Тягово-сцепное': 'unik', 'устройство': 'тов', '(беззазорное)^21-202': 'раз', '(21-324)ТЕХНОТРОН': 'раз'}\n",
      "{'Щетка': 'тип', 'стеклоочистителя': 'тип', 'бескаркасная': 'unik', '11in1': 'мод', '550mm': 'мод', '22\"': 'мод'}\n",
      "{'Щетка': 'тип', 'стеклоочистителя': 'тип', 'Subaru': 'мод', 'soa591u217r': 'мод'}\n",
      "{'Подкрылок': 'unik', 'прав.': 'unik', 'пер.': 'unik'}\n",
      "{'Автомобильный': 'наз', 'держатель': 'наз', 'Remax': 'мод'}\n"
     ]
    }
   ],
   "source": [
    "for i in range(20, 30):\n",
    "    print(my_clf.predict(data[i]))\n"
   ]
  },
  {
   "attachments": {},
   "cell_type": "markdown",
   "id": "fb8b02ca",
   "metadata": {},
   "source": [
    "## Вывод"
   ]
  },
  {
   "attachments": {},
   "cell_type": "markdown",
   "id": "b7425b37",
   "metadata": {},
   "source": [
    "Модели машинного обучения не показали хороших результатов в решении задачи NER, если их сравнивать с решениями, которые сейчас применяются на практике(рекуррентные нейронные сети). В целом, это неудивительно, ведь как я сказал в введении задача NER состоит из двух:\n",
    "1) обнаружить, что какая-то последовательность слов — это именованная сущность; \n",
    "2) понять, к какому классу  эта именованная сущность относится.\n",
    "Модели машинного обучения не могут справиться с первой частью этой задачи, так как рассматривают каждое слово как отдельное наблюдения, не смотря на контекст. В итоге, модель может решить какие-то очевидные случаи, например, зачастую она правильно разделяла \"товар\" и \"тип\", так как первое почти всегда является существительным, второе же - прилагательным, но с любыми более сложными у нее возникают проблемы.\n"
   ]
  }
 ],
 "metadata": {
  "kernelspec": {
   "display_name": "base",
   "language": "python",
   "name": "base"
  },
  "language_info": {
   "codemirror_mode": {
    "name": "ipython",
    "version": 3
   },
   "file_extension": ".py",
   "mimetype": "text/x-python",
   "name": "python",
   "nbconvert_exporter": "python",
   "pygments_lexer": "ipython3",
   "version": "3.8.16"
  }
 },
 "nbformat": 4,
 "nbformat_minor": 5
}
